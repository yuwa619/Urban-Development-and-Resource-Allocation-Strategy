{
 "cells": [
  {
   "cell_type": "markdown",
   "id": "3f02f5a1",
   "metadata": {},
   "source": [
    "# CENSUS11 DATA PROJECT: An Analysis of a Town Population Data"
   ]
  },
  {
   "cell_type": "markdown",
   "id": "5020dbab",
   "metadata": {},
   "source": [
    "## 1. INTRODUCTION\n",
    "\n",
    "In this analysis loaded a CSV data for the census11 dataset to be used. Then I performed various cleaning and analysis with it using Python libraries to get insights about the population and draw some conclusion."
   ]
  },
  {
   "cell_type": "markdown",
   "id": "71c5fed2",
   "metadata": {},
   "source": [
    "## CONTENTS"
   ]
  },
  {
   "cell_type": "markdown",
   "id": "40d6d149",
   "metadata": {},
   "source": [
    "1. [INTRODUCTION](#1.-INTRODUCTION)\n",
    "2. [DATA GATHERING](#2.-DATA-GATHERING)\n",
    "3. [DATA CLEANING](#3.-DATA-CLEANING)<br>\n",
    "   3a. [DEALING WITH DATA TYPE](#3a.-Dealing-with-data-types)<br>\n",
    "   3b. [DEALING WITH MISSING VALUES](#3b.-Dealing-with-missing-values)<br>\n",
    "   3c. [CLEANING RELATIONSHIP TO HEAD OF HOUSE COLUMN](#3c.-Cleaning-'Relationship-to-head-of-house'-column)<br>\n",
    "   3d. [CLEANING INFIRMITY ROW](#3d.-Cleaning-'Infirmity'-row)<br>\n",
    "   3e. [CLEANING FIRST NAME COLUMN](#3e.-Cleaning-'First-Name'-column)\n",
    "4. [EXPLORATORY DATA ANALYSIS AND DATA VISUALIZATION](#4.-Exploratory-Data-Analysis-and-Data-Visualization)<br>\n",
    "   4a. [EXAMINING AGE DISTRIBUTION](#4a.-Examining-Age-distribution)<br>\n",
    "   4b. [CALCULATING DEATH RATE AND BIRTH RATE](#4b.-Calculating-death-rate-and-Birth-rate)<br>\n",
    "   4c. [EXAMINING THE NUMBER OF UNIVERSITY STUDENT, RETIREMENT AGE AND MINIMUM AGE FOR SCHOOL](#4c.-Examining-the-number-of-University-Student,-Retirement-age-and-Minimum-Age-for-School)<br>\n",
    "   4d. [EXAMINING UNEMPLOYMENT TREND](#4d.-Examining-Unemployment-trend)<br>\n",
    "   4e. [EXAMINING RELIGION TREND](#4e.-Examining-Religion-trend)<br>\n",
    "   4f. [EXAMINING THE MARRIAGE AND DIVORCED RATE](#4f.-Examining-the-Marriage-and-Divorced-rate)<br>\n",
    "   4g. [EXAMINING OCCCUPANCY LEVEL](#4g.-Examining-Occupancy-Level)\n",
    "   \n",
    "   \n",
    "   \n",
    "   \n",
    "   \n"
   ]
  },
  {
   "cell_type": "markdown",
   "id": "e0056add",
   "metadata": {},
   "source": [
    "## 2. DATA GATHERING"
   ]
  },
  {
   "cell_type": "code",
   "execution_count": 1255,
   "id": "5a3d55b9",
   "metadata": {},
   "outputs": [],
   "source": [
    "# Importing libraries\n",
    "import pandas as pd\n",
    "import seaborn as sns\n",
    "import matplotlib.pyplot as plt\n",
    "import numpy as np"
   ]
  },
  {
   "cell_type": "code",
   "execution_count": 1256,
   "id": "8a452881",
   "metadata": {},
   "outputs": [],
   "source": [
    "# Assigning a variable to the DataFrame\n",
    "census_data = pd.read_csv('census11.csv')"
   ]
  },
  {
   "cell_type": "markdown",
   "id": "6a570cd6",
   "metadata": {},
   "source": [
    "## 3. DATA CLEANING"
   ]
  },
  {
   "cell_type": "code",
   "execution_count": 1257,
   "id": "e7d7dd4b",
   "metadata": {},
   "outputs": [
    {
     "data": {
      "text/html": [
       "<div>\n",
       "<style scoped>\n",
       "    .dataframe tbody tr th:only-of-type {\n",
       "        vertical-align: middle;\n",
       "    }\n",
       "\n",
       "    .dataframe tbody tr th {\n",
       "        vertical-align: top;\n",
       "    }\n",
       "\n",
       "    .dataframe thead th {\n",
       "        text-align: right;\n",
       "    }\n",
       "</style>\n",
       "<table border=\"1\" class=\"dataframe\">\n",
       "  <thead>\n",
       "    <tr style=\"text-align: right;\">\n",
       "      <th></th>\n",
       "      <th>House Number</th>\n",
       "      <th>Street</th>\n",
       "      <th>First Name</th>\n",
       "      <th>Surname</th>\n",
       "      <th>Age</th>\n",
       "      <th>Relationship to Head of House</th>\n",
       "      <th>Marital Status</th>\n",
       "      <th>Gender</th>\n",
       "      <th>Occupation</th>\n",
       "      <th>Infirmity</th>\n",
       "      <th>Religion</th>\n",
       "    </tr>\n",
       "  </thead>\n",
       "  <tbody>\n",
       "    <tr>\n",
       "      <th>0</th>\n",
       "      <td>1</td>\n",
       "      <td>Regentchain Avenue</td>\n",
       "      <td>Ashleigh</td>\n",
       "      <td>Dale</td>\n",
       "      <td>41</td>\n",
       "      <td>Head</td>\n",
       "      <td>Divorced</td>\n",
       "      <td>Female</td>\n",
       "      <td>Field trials officer</td>\n",
       "      <td>NaN</td>\n",
       "      <td>Catholic</td>\n",
       "    </tr>\n",
       "    <tr>\n",
       "      <th>1</th>\n",
       "      <td>1</td>\n",
       "      <td>Regentchain Avenue</td>\n",
       "      <td>Deborah</td>\n",
       "      <td>Dale</td>\n",
       "      <td>11</td>\n",
       "      <td>Daughter</td>\n",
       "      <td>NaN</td>\n",
       "      <td>Female</td>\n",
       "      <td>Student</td>\n",
       "      <td>NaN</td>\n",
       "      <td>NaN</td>\n",
       "    </tr>\n",
       "    <tr>\n",
       "      <th>2</th>\n",
       "      <td>1</td>\n",
       "      <td>Regentchain Avenue</td>\n",
       "      <td>Gary</td>\n",
       "      <td>Dale</td>\n",
       "      <td>7</td>\n",
       "      <td>Son</td>\n",
       "      <td>NaN</td>\n",
       "      <td>Male</td>\n",
       "      <td>Student</td>\n",
       "      <td>NaN</td>\n",
       "      <td>NaN</td>\n",
       "    </tr>\n",
       "    <tr>\n",
       "      <th>3</th>\n",
       "      <td>2</td>\n",
       "      <td>Regentchain Avenue</td>\n",
       "      <td>Edward</td>\n",
       "      <td>Grant</td>\n",
       "      <td>40</td>\n",
       "      <td>Head</td>\n",
       "      <td>Married</td>\n",
       "      <td>Male</td>\n",
       "      <td>Environmental education officer</td>\n",
       "      <td>NaN</td>\n",
       "      <td>Methodist</td>\n",
       "    </tr>\n",
       "    <tr>\n",
       "      <th>4</th>\n",
       "      <td>2</td>\n",
       "      <td>Regentchain Avenue</td>\n",
       "      <td>Elizabeth</td>\n",
       "      <td>Grant</td>\n",
       "      <td>35</td>\n",
       "      <td>Wife</td>\n",
       "      <td>Married</td>\n",
       "      <td>Female</td>\n",
       "      <td>Public librarian</td>\n",
       "      <td>NaN</td>\n",
       "      <td>Catholic</td>\n",
       "    </tr>\n",
       "  </tbody>\n",
       "</table>\n",
       "</div>"
      ],
      "text/plain": [
       "   House Number              Street First Name Surname Age   \n",
       "0             1  Regentchain Avenue   Ashleigh    Dale  41  \\\n",
       "1             1  Regentchain Avenue    Deborah    Dale  11   \n",
       "2             1  Regentchain Avenue       Gary    Dale   7   \n",
       "3             2  Regentchain Avenue     Edward   Grant  40   \n",
       "4             2  Regentchain Avenue  Elizabeth   Grant  35   \n",
       "\n",
       "  Relationship to Head of House Marital Status  Gender   \n",
       "0                          Head       Divorced  Female  \\\n",
       "1                      Daughter            NaN  Female   \n",
       "2                           Son            NaN    Male   \n",
       "3                          Head        Married    Male   \n",
       "4                          Wife        Married  Female   \n",
       "\n",
       "                        Occupation Infirmity   Religion  \n",
       "0             Field trials officer       NaN   Catholic  \n",
       "1                          Student       NaN        NaN  \n",
       "2                          Student       NaN        NaN  \n",
       "3  Environmental education officer       NaN  Methodist  \n",
       "4                 Public librarian       NaN   Catholic  "
      ]
     },
     "execution_count": 1257,
     "metadata": {},
     "output_type": "execute_result"
    }
   ],
   "source": [
    "census_data.head()"
   ]
  },
  {
   "cell_type": "code",
   "execution_count": 1258,
   "id": "41811195",
   "metadata": {},
   "outputs": [
    {
     "data": {
      "text/plain": [
       "(8377, 11)"
      ]
     },
     "execution_count": 1258,
     "metadata": {},
     "output_type": "execute_result"
    }
   ],
   "source": [
    "# Get the shape of the data\n",
    "census_data.shape"
   ]
  },
  {
   "cell_type": "code",
   "execution_count": 1259,
   "id": "382d9fb2",
   "metadata": {},
   "outputs": [
    {
     "name": "stdout",
     "output_type": "stream",
     "text": [
      "<class 'pandas.core.frame.DataFrame'>\n",
      "RangeIndex: 8377 entries, 0 to 8376\n",
      "Data columns (total 11 columns):\n",
      " #   Column                         Non-Null Count  Dtype \n",
      "---  ------                         --------------  ----- \n",
      " 0   House Number                   8377 non-null   int64 \n",
      " 1   Street                         8377 non-null   object\n",
      " 2   First Name                     8377 non-null   object\n",
      " 3   Surname                        8377 non-null   object\n",
      " 4   Age                            8377 non-null   object\n",
      " 5   Relationship to Head of House  7778 non-null   object\n",
      " 6   Marital Status                 6402 non-null   object\n",
      " 7   Gender                         8377 non-null   object\n",
      " 8   Occupation                     8377 non-null   object\n",
      " 9   Infirmity                      69 non-null     object\n",
      " 10  Religion                       3525 non-null   object\n",
      "dtypes: int64(1), object(10)\n",
      "memory usage: 720.0+ KB\n"
     ]
    }
   ],
   "source": [
    "# Get data information to check for number of missing values per column\n",
    "census_data.info()"
   ]
  },
  {
   "cell_type": "code",
   "execution_count": 1260,
   "id": "1c8792df",
   "metadata": {},
   "outputs": [
    {
     "data": {
      "text/plain": [
       "House Number                      int64\n",
       "Street                           object\n",
       "First Name                       object\n",
       "Surname                          object\n",
       "Age                              object\n",
       "Relationship to Head of House    object\n",
       "Marital Status                   object\n",
       "Gender                           object\n",
       "Occupation                       object\n",
       "Infirmity                        object\n",
       "Religion                         object\n",
       "dtype: object"
      ]
     },
     "execution_count": 1260,
     "metadata": {},
     "output_type": "execute_result"
    }
   ],
   "source": [
    "# Get data types of each columns\n",
    "census_data.dtypes"
   ]
  },
  {
   "cell_type": "markdown",
   "id": "3bc81a6d",
   "metadata": {},
   "source": [
    "### 3a. Dealing with data types"
   ]
  },
  {
   "cell_type": "markdown",
   "id": "070162b1",
   "metadata": {},
   "source": [
    "From the above some of the columns are not in the proper data types\n",
    "* House number should be in string and not integer because the can contain leading zeros (e.g 001), can be alphanumeric and are used as identifiers\n",
    "* Age should be changed to integer as its a numerical quantity and can be measured.\n",
    "* Gender and Marital status will be converted to categorical type\n"
   ]
  },
  {
   "cell_type": "code",
   "execution_count": 1261,
   "id": "55eba3ee",
   "metadata": {},
   "outputs": [],
   "source": [
    "# Convert House Number to string/object\n",
    "census_data['House Number'] = census_data['House Number'].astype('str')"
   ]
  },
  {
   "cell_type": "code",
   "execution_count": 1262,
   "id": "0a1a833a",
   "metadata": {},
   "outputs": [],
   "source": [
    "# Confirming the above conversion\n",
    "assert census_data['House Number'].dtype == 'object'"
   ]
  },
  {
   "cell_type": "markdown",
   "id": "02662185",
   "metadata": {},
   "source": [
    "I tried converting Age to float using the method in the above cell but gave error \"could not convert string to float: ''\". I will then use the .loc[] method to search for the row(s) with '' value in the age column."
   ]
  },
  {
   "cell_type": "code",
   "execution_count": 1263,
   "id": "0d1620b9",
   "metadata": {},
   "outputs": [
    {
     "name": "stdout",
     "output_type": "stream",
     "text": [
      "     House Number          Street First Name Surname Age   \n",
      "4000            6  Pendragon Lane     Howard   Baker      \\\n",
      "\n",
      "     Relationship to Head of House Marital Status Gender          Occupation   \n",
      "4000                           Son         Single   Male  University Student  \\\n",
      "\n",
      "     Infirmity   Religion  \n",
      "4000       NaN  Methodist  \n"
     ]
    }
   ],
   "source": [
    "empty_age_rows = census_data.loc[census_data['Age'] == ' ']\n",
    "print(empty_age_rows)"
   ]
  },
  {
   "cell_type": "markdown",
   "id": "589b2c16",
   "metadata": {},
   "source": [
    "Just one row was found. I since the person is a university student I will replace his age with the median age between 18 - 22 which is the age most university student are found. This value is 20."
   ]
  },
  {
   "cell_type": "code",
   "execution_count": 1264,
   "id": "06a1c7a9",
   "metadata": {},
   "outputs": [],
   "source": [
    "## The Age column is object type so I will replace it with '20'\n",
    "census_data['Age'].replace(' ', '20', inplace=True)"
   ]
  },
  {
   "cell_type": "code",
   "execution_count": 1265,
   "id": "b4045a1b",
   "metadata": {},
   "outputs": [],
   "source": [
    "## I will attempt again to convert it to float\n",
    "census_data['Age'] = census_data['Age'].astype('float')"
   ]
  },
  {
   "cell_type": "code",
   "execution_count": 1266,
   "id": "3122d649",
   "metadata": {},
   "outputs": [],
   "source": [
    "## Then convert to integer.  \n",
    "census_data['Age'] = census_data['Age'].astype('int')"
   ]
  },
  {
   "cell_type": "markdown",
   "id": "3c296375",
   "metadata": {},
   "source": [
    "### 3b. Dealing with missing values"
   ]
  },
  {
   "cell_type": "markdown",
   "id": "7a30b4b2",
   "metadata": {},
   "source": [
    "* Marital Status have 1974 missing values \n",
    "* Religion has 2012 missing values\n",
    "* Occupation, Infirmity have empty values (' ') in some rows  "
   ]
  },
  {
   "cell_type": "code",
   "execution_count": 1267,
   "id": "e7250cc9",
   "metadata": {},
   "outputs": [
    {
     "data": {
      "text/plain": [
       "array(['Divorced', nan, 'Married', 'Single', 'Widowed', ' '], dtype=object)"
      ]
     },
     "execution_count": 1267,
     "metadata": {},
     "output_type": "execute_result"
    }
   ],
   "source": [
    "## Checking unique values of Marital Status\n",
    "census_data['Marital Status'].unique()"
   ]
  },
  {
   "cell_type": "markdown",
   "id": "d5c30c12",
   "metadata": {},
   "source": [
    "On inspecting the data rows with nan are under 18. Marital status dooes not apply to them "
   ]
  },
  {
   "cell_type": "code",
   "execution_count": 1268,
   "id": "d34ae0d6",
   "metadata": {},
   "outputs": [
    {
     "name": "stdout",
     "output_type": "stream",
     "text": [
      "     House Number       Street First Name Surname  Age   \n",
      "4230           47  Chan Estate     Norman    Ward   25  \\\n",
      "\n",
      "     Relationship to Head of House Marital Status Gender     Occupation   \n",
      "4230                           Son                  Male  Administrator  \\\n",
      "\n",
      "     Infirmity Religion  \n",
      "4230       NaN      NaN  \n"
     ]
    }
   ],
   "source": [
    "# Using .loc method to search for rows with ' '\n",
    "empty_marital_rows = census_data.loc[census_data['Marital Status'] == ' ']\n",
    "print(empty_marital_rows)"
   ]
  },
  {
   "cell_type": "markdown",
   "id": "a9181f32",
   "metadata": {},
   "source": [
    "<br>\n",
    "From the unique values of Marital Status there is NaN. I will use for loop and if statement to replace NaN with 'Not applicable' for under 18 and 'Single' for 18 and above. I assumed this because the legal age for marriage in the UK is 18. Also, for 18 and above with NaN I assumed the person is single and never married"
   ]
  },
  {
   "cell_type": "code",
   "execution_count": 1269,
   "id": "bf91efd4",
   "metadata": {},
   "outputs": [],
   "source": [
    "# Iterrate through the census_data rows for age rows < 18 and with marital status 'not applicable' also for >= 18\n",
    "for i, row in census_data.iterrows():\n",
    "    if pd.isna(row['Marital Status']) and row['Age'] < 18:\n",
    "        census_data.at[i, 'Marital Status'] = 'Not applicable'\n",
    "    elif pd.isna(row['Marital Status']) and row['Age'] >= 18:\n",
    "        census_data.at[i, 'Marital Status'] = 'Single'"
   ]
  },
  {
   "cell_type": "markdown",
   "id": "b775eb63",
   "metadata": {},
   "source": [
    "<br>\n",
    "From the above we have one row with ' ' value. This entry is a son in this address so we replace the ' ' value \n",
    "with 'single'"
   ]
  },
  {
   "cell_type": "code",
   "execution_count": 1270,
   "id": "ffb85cfc",
   "metadata": {},
   "outputs": [],
   "source": [
    "# Replacing ' ' with 'Single'\n",
    "census_data['Marital Status'].replace(' ', 'Single', inplace=True)"
   ]
  },
  {
   "cell_type": "code",
   "execution_count": 1271,
   "id": "1bd9864d",
   "metadata": {},
   "outputs": [
    {
     "data": {
      "text/plain": [
       "array(['Divorced', 'Not applicable', 'Married', 'Single', 'Widowed'],\n",
       "      dtype=object)"
      ]
     },
     "execution_count": 1271,
     "metadata": {},
     "output_type": "execute_result"
    }
   ],
   "source": [
    "## Confirming unique values of Marital Status\n",
    "census_data['Marital Status'].unique()"
   ]
  },
  {
   "cell_type": "code",
   "execution_count": 1272,
   "id": "1ba9a1cf",
   "metadata": {
    "scrolled": true
   },
   "outputs": [
    {
     "data": {
      "text/plain": [
       "array(['Catholic', nan, 'Methodist', 'Christian', 'Jewish', 'Sikh',\n",
       "       'Muslim', 'Buddist', 'Quaker', 'Housekeeper', 'Jedi', 'Pagan', ' ',\n",
       "       'Private', 'Orthodoxy'], dtype=object)"
      ]
     },
     "execution_count": 1272,
     "metadata": {},
     "output_type": "execute_result"
    }
   ],
   "source": [
    "## Finding unique values of religion\n",
    "census_data['Religion'].unique()"
   ]
  },
  {
   "cell_type": "code",
   "execution_count": 1273,
   "id": "9fd55c46",
   "metadata": {
    "scrolled": true
   },
   "outputs": [
    {
     "data": {
      "text/html": [
       "<div>\n",
       "<style scoped>\n",
       "    .dataframe tbody tr th:only-of-type {\n",
       "        vertical-align: middle;\n",
       "    }\n",
       "\n",
       "    .dataframe tbody tr th {\n",
       "        vertical-align: top;\n",
       "    }\n",
       "\n",
       "    .dataframe thead th {\n",
       "        text-align: right;\n",
       "    }\n",
       "</style>\n",
       "<table border=\"1\" class=\"dataframe\">\n",
       "  <thead>\n",
       "    <tr style=\"text-align: right;\">\n",
       "      <th></th>\n",
       "      <th>House Number</th>\n",
       "      <th>Street</th>\n",
       "      <th>First Name</th>\n",
       "      <th>Surname</th>\n",
       "      <th>Age</th>\n",
       "      <th>Relationship to Head of House</th>\n",
       "      <th>Marital Status</th>\n",
       "      <th>Gender</th>\n",
       "      <th>Occupation</th>\n",
       "      <th>Infirmity</th>\n",
       "      <th>Religion</th>\n",
       "    </tr>\n",
       "  </thead>\n",
       "  <tbody>\n",
       "    <tr>\n",
       "      <th>1</th>\n",
       "      <td>1</td>\n",
       "      <td>Regentchain Avenue</td>\n",
       "      <td>Deborah</td>\n",
       "      <td>Dale</td>\n",
       "      <td>11</td>\n",
       "      <td>Daughter</td>\n",
       "      <td>Not applicable</td>\n",
       "      <td>Female</td>\n",
       "      <td>Student</td>\n",
       "      <td>NaN</td>\n",
       "      <td>NaN</td>\n",
       "    </tr>\n",
       "    <tr>\n",
       "      <th>2</th>\n",
       "      <td>1</td>\n",
       "      <td>Regentchain Avenue</td>\n",
       "      <td>Gary</td>\n",
       "      <td>Dale</td>\n",
       "      <td>7</td>\n",
       "      <td>Son</td>\n",
       "      <td>Not applicable</td>\n",
       "      <td>Male</td>\n",
       "      <td>Student</td>\n",
       "      <td>NaN</td>\n",
       "      <td>NaN</td>\n",
       "    </tr>\n",
       "    <tr>\n",
       "      <th>5</th>\n",
       "      <td>2</td>\n",
       "      <td>Regentchain Avenue</td>\n",
       "      <td>Catherine</td>\n",
       "      <td>Grant</td>\n",
       "      <td>19</td>\n",
       "      <td>Daughter</td>\n",
       "      <td>Single</td>\n",
       "      <td>Female</td>\n",
       "      <td>University Student</td>\n",
       "      <td>NaN</td>\n",
       "      <td>NaN</td>\n",
       "    </tr>\n",
       "    <tr>\n",
       "      <th>6</th>\n",
       "      <td>2</td>\n",
       "      <td>Regentchain Avenue</td>\n",
       "      <td>Mandy</td>\n",
       "      <td>Grant</td>\n",
       "      <td>17</td>\n",
       "      <td>Daughter</td>\n",
       "      <td>Not applicable</td>\n",
       "      <td>Female</td>\n",
       "      <td>Student</td>\n",
       "      <td>NaN</td>\n",
       "      <td>NaN</td>\n",
       "    </tr>\n",
       "    <tr>\n",
       "      <th>7</th>\n",
       "      <td>2</td>\n",
       "      <td>Regentchain Avenue</td>\n",
       "      <td>Amanda</td>\n",
       "      <td>Grant</td>\n",
       "      <td>11</td>\n",
       "      <td>Daughter</td>\n",
       "      <td>Not applicable</td>\n",
       "      <td>Female</td>\n",
       "      <td>Student</td>\n",
       "      <td>NaN</td>\n",
       "      <td>NaN</td>\n",
       "    </tr>\n",
       "    <tr>\n",
       "      <th>...</th>\n",
       "      <td>...</td>\n",
       "      <td>...</td>\n",
       "      <td>...</td>\n",
       "      <td>...</td>\n",
       "      <td>...</td>\n",
       "      <td>...</td>\n",
       "      <td>...</td>\n",
       "      <td>...</td>\n",
       "      <td>...</td>\n",
       "      <td>...</td>\n",
       "      <td>...</td>\n",
       "    </tr>\n",
       "    <tr>\n",
       "      <th>8370</th>\n",
       "      <td>1</td>\n",
       "      <td>Howard House</td>\n",
       "      <td>Jean</td>\n",
       "      <td>Bryant</td>\n",
       "      <td>8</td>\n",
       "      <td>Daughter</td>\n",
       "      <td>Not applicable</td>\n",
       "      <td>Female</td>\n",
       "      <td>Student</td>\n",
       "      <td>NaN</td>\n",
       "      <td>NaN</td>\n",
       "    </tr>\n",
       "    <tr>\n",
       "      <th>8371</th>\n",
       "      <td>1</td>\n",
       "      <td>Howard House</td>\n",
       "      <td>Abbie</td>\n",
       "      <td>Bryant</td>\n",
       "      <td>4</td>\n",
       "      <td>Daughter</td>\n",
       "      <td>Not applicable</td>\n",
       "      <td>Female</td>\n",
       "      <td>Child</td>\n",
       "      <td>NaN</td>\n",
       "      <td>NaN</td>\n",
       "    </tr>\n",
       "    <tr>\n",
       "      <th>8372</th>\n",
       "      <td>1</td>\n",
       "      <td>Howard House</td>\n",
       "      <td>Dennis</td>\n",
       "      <td>Bryant</td>\n",
       "      <td>1</td>\n",
       "      <td>Son</td>\n",
       "      <td>Not applicable</td>\n",
       "      <td>Male</td>\n",
       "      <td>Child</td>\n",
       "      <td>NaN</td>\n",
       "      <td>NaN</td>\n",
       "    </tr>\n",
       "    <tr>\n",
       "      <th>8373</th>\n",
       "      <td>1</td>\n",
       "      <td>Howard House</td>\n",
       "      <td>Beverley</td>\n",
       "      <td>Cox</td>\n",
       "      <td>44</td>\n",
       "      <td>Lodger</td>\n",
       "      <td>Single</td>\n",
       "      <td>Female</td>\n",
       "      <td>Building services engineer</td>\n",
       "      <td>NaN</td>\n",
       "      <td>NaN</td>\n",
       "    </tr>\n",
       "    <tr>\n",
       "      <th>8374</th>\n",
       "      <td>1</td>\n",
       "      <td>Howard House</td>\n",
       "      <td>Lee</td>\n",
       "      <td>Harrison</td>\n",
       "      <td>32</td>\n",
       "      <td>Lodger</td>\n",
       "      <td>Single</td>\n",
       "      <td>Male</td>\n",
       "      <td>Diplomatic Services operational officer</td>\n",
       "      <td>NaN</td>\n",
       "      <td>NaN</td>\n",
       "    </tr>\n",
       "  </tbody>\n",
       "</table>\n",
       "<p>4852 rows × 11 columns</p>\n",
       "</div>"
      ],
      "text/plain": [
       "     House Number              Street First Name   Surname  Age   \n",
       "1               1  Regentchain Avenue    Deborah      Dale   11  \\\n",
       "2               1  Regentchain Avenue       Gary      Dale    7   \n",
       "5               2  Regentchain Avenue  Catherine     Grant   19   \n",
       "6               2  Regentchain Avenue      Mandy     Grant   17   \n",
       "7               2  Regentchain Avenue     Amanda     Grant   11   \n",
       "...           ...                 ...        ...       ...  ...   \n",
       "8370            1        Howard House       Jean    Bryant    8   \n",
       "8371            1        Howard House      Abbie    Bryant    4   \n",
       "8372            1        Howard House     Dennis    Bryant    1   \n",
       "8373            1        Howard House   Beverley       Cox   44   \n",
       "8374            1        Howard House        Lee  Harrison   32   \n",
       "\n",
       "     Relationship to Head of House  Marital Status  Gender   \n",
       "1                         Daughter  Not applicable  Female  \\\n",
       "2                              Son  Not applicable    Male   \n",
       "5                         Daughter          Single  Female   \n",
       "6                         Daughter  Not applicable  Female   \n",
       "7                         Daughter  Not applicable  Female   \n",
       "...                            ...             ...     ...   \n",
       "8370                      Daughter  Not applicable  Female   \n",
       "8371                      Daughter  Not applicable  Female   \n",
       "8372                           Son  Not applicable    Male   \n",
       "8373                        Lodger          Single  Female   \n",
       "8374                        Lodger          Single    Male   \n",
       "\n",
       "                                   Occupation Infirmity Religion  \n",
       "1                                     Student       NaN      NaN  \n",
       "2                                     Student       NaN      NaN  \n",
       "5                          University Student       NaN      NaN  \n",
       "6                                     Student       NaN      NaN  \n",
       "7                                     Student       NaN      NaN  \n",
       "...                                       ...       ...      ...  \n",
       "8370                                  Student       NaN      NaN  \n",
       "8371                                    Child       NaN      NaN  \n",
       "8372                                    Child       NaN      NaN  \n",
       "8373               Building services engineer       NaN      NaN  \n",
       "8374  Diplomatic Services operational officer       NaN      NaN  \n",
       "\n",
       "[4852 rows x 11 columns]"
      ]
     },
     "execution_count": 1273,
     "metadata": {},
     "output_type": "execute_result"
    }
   ],
   "source": [
    "# Checking for NaN values for religion\n",
    "census_data.loc[census_data['Religion'].isna()]"
   ]
  },
  {
   "cell_type": "markdown",
   "id": "c7c30fb4",
   "metadata": {},
   "source": [
    "Inspecting the data by filtering with religion with NaN we can see that most of the these are under 18. So I take the assumption that they cant really have religion for themselves"
   ]
  },
  {
   "cell_type": "code",
   "execution_count": 1274,
   "id": "617fdfff",
   "metadata": {},
   "outputs": [],
   "source": [
    "## I the use if and else statement to replace this NaN religion values for under 18 to \"Undecided\"\n",
    "## I also include the else statement just in case any age 18 and above religion was NaN too. i replaced this with 'None'\n",
    "for i, row in census_data.iterrows():\n",
    "    if pd.isna(row['Religion']) and row['Age'] < 18:\n",
    "        census_data.at[i, 'Religion'] = 'Undecided'\n",
    "    elif pd.isna(row['Religion']) and row['Age'] >= 18:\n",
    "        census_data.at[i, 'Religion'] = 'None'"
   ]
  },
  {
   "cell_type": "code",
   "execution_count": 1275,
   "id": "2608c412",
   "metadata": {},
   "outputs": [
    {
     "data": {
      "text/html": [
       "<div>\n",
       "<style scoped>\n",
       "    .dataframe tbody tr th:only-of-type {\n",
       "        vertical-align: middle;\n",
       "    }\n",
       "\n",
       "    .dataframe tbody tr th {\n",
       "        vertical-align: top;\n",
       "    }\n",
       "\n",
       "    .dataframe thead th {\n",
       "        text-align: right;\n",
       "    }\n",
       "</style>\n",
       "<table border=\"1\" class=\"dataframe\">\n",
       "  <thead>\n",
       "    <tr style=\"text-align: right;\">\n",
       "      <th></th>\n",
       "      <th>House Number</th>\n",
       "      <th>Street</th>\n",
       "      <th>First Name</th>\n",
       "      <th>Surname</th>\n",
       "      <th>Age</th>\n",
       "      <th>Relationship to Head of House</th>\n",
       "      <th>Marital Status</th>\n",
       "      <th>Gender</th>\n",
       "      <th>Occupation</th>\n",
       "      <th>Infirmity</th>\n",
       "      <th>Religion</th>\n",
       "    </tr>\n",
       "  </thead>\n",
       "  <tbody>\n",
       "  </tbody>\n",
       "</table>\n",
       "</div>"
      ],
      "text/plain": [
       "Empty DataFrame\n",
       "Columns: [House Number, Street, First Name, Surname, Age, Relationship to Head of House, Marital Status, Gender, Occupation, Infirmity, Religion]\n",
       "Index: []"
      ]
     },
     "execution_count": 1275,
     "metadata": {},
     "output_type": "execute_result"
    }
   ],
   "source": [
    "# Rechecking to confirm if there is any with NaN value\n",
    "census_data.loc[census_data['Religion'].isna()]"
   ]
  },
  {
   "cell_type": "code",
   "execution_count": 1276,
   "id": "999d198f",
   "metadata": {},
   "outputs": [
    {
     "data": {
      "text/html": [
       "<div>\n",
       "<style scoped>\n",
       "    .dataframe tbody tr th:only-of-type {\n",
       "        vertical-align: middle;\n",
       "    }\n",
       "\n",
       "    .dataframe tbody tr th {\n",
       "        vertical-align: top;\n",
       "    }\n",
       "\n",
       "    .dataframe thead th {\n",
       "        text-align: right;\n",
       "    }\n",
       "</style>\n",
       "<table border=\"1\" class=\"dataframe\">\n",
       "  <thead>\n",
       "    <tr style=\"text-align: right;\">\n",
       "      <th></th>\n",
       "      <th>House Number</th>\n",
       "      <th>Street</th>\n",
       "      <th>First Name</th>\n",
       "      <th>Surname</th>\n",
       "      <th>Age</th>\n",
       "      <th>Relationship to Head of House</th>\n",
       "      <th>Marital Status</th>\n",
       "      <th>Gender</th>\n",
       "      <th>Occupation</th>\n",
       "      <th>Infirmity</th>\n",
       "      <th>Religion</th>\n",
       "    </tr>\n",
       "  </thead>\n",
       "  <tbody>\n",
       "    <tr>\n",
       "      <th>4288</th>\n",
       "      <td>12</td>\n",
       "      <td>Jones Ramp</td>\n",
       "      <td>Jane</td>\n",
       "      <td>Armstrong</td>\n",
       "      <td>46</td>\n",
       "      <td>Wife</td>\n",
       "      <td>Married</td>\n",
       "      <td>Female</td>\n",
       "      <td>Garment/textile technologist</td>\n",
       "      <td>NaN</td>\n",
       "      <td></td>\n",
       "    </tr>\n",
       "    <tr>\n",
       "      <th>7487</th>\n",
       "      <td>58</td>\n",
       "      <td>Canterbury Well</td>\n",
       "      <td>Christopher</td>\n",
       "      <td>Cole</td>\n",
       "      <td>15</td>\n",
       "      <td>Son</td>\n",
       "      <td>Not applicable</td>\n",
       "      <td>Male</td>\n",
       "      <td>Student</td>\n",
       "      <td>NaN</td>\n",
       "      <td></td>\n",
       "    </tr>\n",
       "  </tbody>\n",
       "</table>\n",
       "</div>"
      ],
      "text/plain": [
       "     House Number           Street   First Name    Surname  Age   \n",
       "4288           12       Jones Ramp         Jane  Armstrong   46  \\\n",
       "7487           58  Canterbury Well  Christopher       Cole   15   \n",
       "\n",
       "     Relationship to Head of House  Marital Status  Gender   \n",
       "4288                          Wife         Married  Female  \\\n",
       "7487                           Son  Not applicable    Male   \n",
       "\n",
       "                        Occupation Infirmity Religion  \n",
       "4288  Garment/textile technologist       NaN           \n",
       "7487                       Student       NaN           "
      ]
     },
     "execution_count": 1276,
     "metadata": {},
     "output_type": "execute_result"
    }
   ],
   "source": [
    "## Inspecting the religion data with ' '\n",
    "census_data.loc[census_data['Religion'] == ' ']"
   ]
  },
  {
   "cell_type": "code",
   "execution_count": 1277,
   "id": "f944c2b6",
   "metadata": {},
   "outputs": [],
   "source": [
    "# Replacing ' ' for 18 and above with 'None' while < 18 with 'Undecided'\n",
    "for v, row in census_data.iterrows():\n",
    "    if row['Religion'] == ' ' and row['Age'] < 18:\n",
    "        census_data.at[v, 'Religion'] = 'Undecided'\n",
    "    elif row['Religion'] == ' ' and row['Age'] >= 18:\n",
    "        census_data.at[v, 'Religion'] = 'None'\n"
   ]
  },
  {
   "cell_type": "code",
   "execution_count": 1278,
   "id": "589a00f5",
   "metadata": {},
   "outputs": [
    {
     "data": {
      "text/plain": [
       "array(['Catholic', 'Undecided', 'Methodist', 'None', 'Christian',\n",
       "       'Jewish', 'Sikh', 'Muslim', 'Buddist', 'Quaker', 'Housekeeper',\n",
       "       'Jedi', 'Pagan', 'Private', 'Orthodoxy'], dtype=object)"
      ]
     },
     "execution_count": 1278,
     "metadata": {},
     "output_type": "execute_result"
    }
   ],
   "source": [
    "# Confirming the unique values of Religion\n",
    "census_data['Religion'].unique()"
   ]
  },
  {
   "cell_type": "markdown",
   "id": "8c1280c8",
   "metadata": {},
   "source": [
    "Cleaning the 'Housekeeper' religion as this is not a recognised religion. Also, Jedi (Jediism) is a fictional religion from Star Wars. (https://en.wikipedia.org/wiki/Jediism#:~:text=Jediism%20is%20inspired%20by%20certain,regulations%22%20and%20%22Jediism%22.)"
   ]
  },
  {
   "cell_type": "code",
   "execution_count": 1279,
   "id": "9dacb02a",
   "metadata": {},
   "outputs": [],
   "source": [
    "'''I will replace Jedi with None. I assumed the person(s) didnt have want to write and did that for fun'''\n",
    "# Replace jedi with 'None'\n",
    "census_data['Religion'].replace('Jedi', 'None', inplace=True)"
   ]
  },
  {
   "cell_type": "code",
   "execution_count": 1280,
   "id": "fbc03966",
   "metadata": {},
   "outputs": [
    {
     "data": {
      "text/html": [
       "<div>\n",
       "<style scoped>\n",
       "    .dataframe tbody tr th:only-of-type {\n",
       "        vertical-align: middle;\n",
       "    }\n",
       "\n",
       "    .dataframe tbody tr th {\n",
       "        vertical-align: top;\n",
       "    }\n",
       "\n",
       "    .dataframe thead th {\n",
       "        text-align: right;\n",
       "    }\n",
       "</style>\n",
       "<table border=\"1\" class=\"dataframe\">\n",
       "  <thead>\n",
       "    <tr style=\"text-align: right;\">\n",
       "      <th></th>\n",
       "      <th>House Number</th>\n",
       "      <th>Street</th>\n",
       "      <th>First Name</th>\n",
       "      <th>Surname</th>\n",
       "      <th>Age</th>\n",
       "      <th>Relationship to Head of House</th>\n",
       "      <th>Marital Status</th>\n",
       "      <th>Gender</th>\n",
       "      <th>Occupation</th>\n",
       "      <th>Infirmity</th>\n",
       "      <th>Religion</th>\n",
       "    </tr>\n",
       "  </thead>\n",
       "  <tbody>\n",
       "    <tr>\n",
       "      <th>2776</th>\n",
       "      <td>9</td>\n",
       "      <td>Barlow Crescent</td>\n",
       "      <td>Bryan</td>\n",
       "      <td>Austin</td>\n",
       "      <td>31</td>\n",
       "      <td>Head</td>\n",
       "      <td>Married</td>\n",
       "      <td>Male</td>\n",
       "      <td>Best boy</td>\n",
       "      <td>NaN</td>\n",
       "      <td>Housekeeper</td>\n",
       "    </tr>\n",
       "  </tbody>\n",
       "</table>\n",
       "</div>"
      ],
      "text/plain": [
       "     House Number           Street First Name Surname  Age   \n",
       "2776            9  Barlow Crescent      Bryan  Austin   31  \\\n",
       "\n",
       "     Relationship to Head of House Marital Status Gender Occupation Infirmity   \n",
       "2776                          Head        Married   Male   Best boy       NaN  \\\n",
       "\n",
       "         Religion  \n",
       "2776  Housekeeper  "
      ]
     },
     "execution_count": 1280,
     "metadata": {},
     "output_type": "execute_result"
    }
   ],
   "source": [
    "# Checking th rows with 'Housekeeper' as religion\n",
    "census_data[(census_data['Religion'] == 'Housekeeper')]\n"
   ]
  },
  {
   "cell_type": "code",
   "execution_count": 1281,
   "id": "0c14aa3a",
   "metadata": {},
   "outputs": [
    {
     "data": {
      "text/html": [
       "<div>\n",
       "<style scoped>\n",
       "    .dataframe tbody tr th:only-of-type {\n",
       "        vertical-align: middle;\n",
       "    }\n",
       "\n",
       "    .dataframe tbody tr th {\n",
       "        vertical-align: top;\n",
       "    }\n",
       "\n",
       "    .dataframe thead th {\n",
       "        text-align: right;\n",
       "    }\n",
       "</style>\n",
       "<table border=\"1\" class=\"dataframe\">\n",
       "  <thead>\n",
       "    <tr style=\"text-align: right;\">\n",
       "      <th></th>\n",
       "      <th>House Number</th>\n",
       "      <th>Street</th>\n",
       "      <th>First Name</th>\n",
       "      <th>Surname</th>\n",
       "      <th>Age</th>\n",
       "      <th>Relationship to Head of House</th>\n",
       "      <th>Marital Status</th>\n",
       "      <th>Gender</th>\n",
       "      <th>Occupation</th>\n",
       "      <th>Infirmity</th>\n",
       "      <th>Religion</th>\n",
       "    </tr>\n",
       "  </thead>\n",
       "  <tbody>\n",
       "    <tr>\n",
       "      <th>2776</th>\n",
       "      <td>9</td>\n",
       "      <td>Barlow Crescent</td>\n",
       "      <td>Bryan</td>\n",
       "      <td>Austin</td>\n",
       "      <td>31</td>\n",
       "      <td>Head</td>\n",
       "      <td>Married</td>\n",
       "      <td>Male</td>\n",
       "      <td>Best boy</td>\n",
       "      <td>NaN</td>\n",
       "      <td>Housekeeper</td>\n",
       "    </tr>\n",
       "    <tr>\n",
       "      <th>2777</th>\n",
       "      <td>9</td>\n",
       "      <td>Barlow Crescent</td>\n",
       "      <td>Lydia</td>\n",
       "      <td>Austin</td>\n",
       "      <td>23</td>\n",
       "      <td>Wife</td>\n",
       "      <td>Married</td>\n",
       "      <td>Female</td>\n",
       "      <td>Copywriter, advertising</td>\n",
       "      <td>NaN</td>\n",
       "      <td>None</td>\n",
       "    </tr>\n",
       "    <tr>\n",
       "      <th>2778</th>\n",
       "      <td>9</td>\n",
       "      <td>Barlow Crescent</td>\n",
       "      <td>Jemma</td>\n",
       "      <td>Austin</td>\n",
       "      <td>0</td>\n",
       "      <td>Daughter</td>\n",
       "      <td>Not applicable</td>\n",
       "      <td>Female</td>\n",
       "      <td>Child</td>\n",
       "      <td>NaN</td>\n",
       "      <td>Undecided</td>\n",
       "    </tr>\n",
       "  </tbody>\n",
       "</table>\n",
       "</div>"
      ],
      "text/plain": [
       "     House Number           Street First Name Surname  Age   \n",
       "2776            9  Barlow Crescent      Bryan  Austin   31  \\\n",
       "2777            9  Barlow Crescent      Lydia  Austin   23   \n",
       "2778            9  Barlow Crescent      Jemma  Austin    0   \n",
       "\n",
       "     Relationship to Head of House  Marital Status  Gender   \n",
       "2776                          Head         Married    Male  \\\n",
       "2777                          Wife         Married  Female   \n",
       "2778                      Daughter  Not applicable  Female   \n",
       "\n",
       "                   Occupation Infirmity     Religion  \n",
       "2776                 Best boy       NaN  Housekeeper  \n",
       "2777  Copywriter, advertising       NaN         None  \n",
       "2778                    Child       NaN    Undecided  "
      ]
     },
     "execution_count": 1281,
     "metadata": {},
     "output_type": "execute_result"
    }
   ],
   "source": [
    "# Checking the household of 9 Barlow crescent to assign the dominant religion as this is clear an error\n",
    "census_data[(census_data['Street'] == 'Barlow Crescent') & (census_data['House Number'] == '9')]\n"
   ]
  },
  {
   "cell_type": "markdown",
   "id": "4644c9ff",
   "metadata": {},
   "source": [
    "From the above its clear the religion is None as the wife has religion as none"
   ]
  },
  {
   "cell_type": "code",
   "execution_count": 1282,
   "id": "5a91338b",
   "metadata": {},
   "outputs": [],
   "source": [
    "# replace housekeeper with None\n",
    "census_data['Religion'].replace('Housekeeper', 'None', inplace=True)"
   ]
  },
  {
   "cell_type": "code",
   "execution_count": 1283,
   "id": "cb8017dd",
   "metadata": {},
   "outputs": [
    {
     "data": {
      "text/plain": [
       "array(['Catholic', 'Undecided', 'Methodist', 'None', 'Christian',\n",
       "       'Jewish', 'Sikh', 'Muslim', 'Buddist', 'Quaker', 'Pagan',\n",
       "       'Private', 'Orthodoxy'], dtype=object)"
      ]
     },
     "execution_count": 1283,
     "metadata": {},
     "output_type": "execute_result"
    }
   ],
   "source": [
    "# Checking if it worked\n",
    "census_data['Religion'].unique()"
   ]
  },
  {
   "cell_type": "code",
   "execution_count": 1284,
   "id": "aae00f0b",
   "metadata": {},
   "outputs": [
    {
     "data": {
      "text/plain": [
       "array([nan, 'Blind', ' ', 'Physical Disability', 'Mental Disability',\n",
       "       'Deaf', 'Unknown Infection', 'Disabled'], dtype=object)"
      ]
     },
     "execution_count": 1284,
     "metadata": {},
     "output_type": "execute_result"
    }
   ],
   "source": [
    "## Inspecting the unique value of Infirmity\n",
    "census_data['Infirmity'].unique()"
   ]
  },
  {
   "cell_type": "code",
   "execution_count": 1285,
   "id": "d0a1064d",
   "metadata": {},
   "outputs": [],
   "source": [
    "# Replacing ' ' with 'None'\n",
    "census_data['Infirmity'].replace(' ', 'None', inplace=True)"
   ]
  },
  {
   "cell_type": "code",
   "execution_count": 1286,
   "id": "58dec91a",
   "metadata": {},
   "outputs": [
    {
     "data": {
      "text/html": [
       "<div>\n",
       "<style scoped>\n",
       "    .dataframe tbody tr th:only-of-type {\n",
       "        vertical-align: middle;\n",
       "    }\n",
       "\n",
       "    .dataframe tbody tr th {\n",
       "        vertical-align: top;\n",
       "    }\n",
       "\n",
       "    .dataframe thead th {\n",
       "        text-align: right;\n",
       "    }\n",
       "</style>\n",
       "<table border=\"1\" class=\"dataframe\">\n",
       "  <thead>\n",
       "    <tr style=\"text-align: right;\">\n",
       "      <th></th>\n",
       "      <th>House Number</th>\n",
       "      <th>Street</th>\n",
       "      <th>First Name</th>\n",
       "      <th>Surname</th>\n",
       "      <th>Age</th>\n",
       "      <th>Relationship to Head of House</th>\n",
       "      <th>Marital Status</th>\n",
       "      <th>Gender</th>\n",
       "      <th>Occupation</th>\n",
       "      <th>Infirmity</th>\n",
       "      <th>Religion</th>\n",
       "    </tr>\n",
       "  </thead>\n",
       "  <tbody>\n",
       "    <tr>\n",
       "      <th>3399</th>\n",
       "      <td>194</td>\n",
       "      <td>Harvey Road</td>\n",
       "      <td>Josephine</td>\n",
       "      <td>Anderson</td>\n",
       "      <td>73</td>\n",
       "      <td>Head</td>\n",
       "      <td>Divorced</td>\n",
       "      <td>Female</td>\n",
       "      <td></td>\n",
       "      <td>NaN</td>\n",
       "      <td>Christian</td>\n",
       "    </tr>\n",
       "  </tbody>\n",
       "</table>\n",
       "</div>"
      ],
      "text/plain": [
       "     House Number       Street First Name   Surname  Age   \n",
       "3399          194  Harvey Road  Josephine  Anderson   73  \\\n",
       "\n",
       "     Relationship to Head of House Marital Status  Gender Occupation   \n",
       "3399                          Head       Divorced  Female             \\\n",
       "\n",
       "     Infirmity   Religion  \n",
       "3399       NaN  Christian  "
      ]
     },
     "execution_count": 1286,
     "metadata": {},
     "output_type": "execute_result"
    }
   ],
   "source": [
    "#Checking for empty values of Occupation. Since this is a common occurrence\n",
    "census_data[census_data['Occupation'] == ' ']"
   ]
  },
  {
   "cell_type": "code",
   "execution_count": 1287,
   "id": "3aec6710",
   "metadata": {},
   "outputs": [],
   "source": [
    "# Replacing ' ' with 'Retired' since the person is 73 years old and most people in this town in this age bracket are retired\n",
    "census_data['Occupation'].replace(' ', 'Retired', inplace=True)"
   ]
  },
  {
   "cell_type": "code",
   "execution_count": 1288,
   "id": "e5b75800",
   "metadata": {},
   "outputs": [
    {
     "data": {
      "text/plain": [
       "array(['Female', 'Male', ' '], dtype=object)"
      ]
     },
     "execution_count": 1288,
     "metadata": {},
     "output_type": "execute_result"
    }
   ],
   "source": [
    "# Inspecting the Gender column for unique entry\n",
    "census_data['Gender'].unique()"
   ]
  },
  {
   "cell_type": "code",
   "execution_count": 1289,
   "id": "4ed496de",
   "metadata": {},
   "outputs": [
    {
     "data": {
      "text/html": [
       "<div>\n",
       "<style scoped>\n",
       "    .dataframe tbody tr th:only-of-type {\n",
       "        vertical-align: middle;\n",
       "    }\n",
       "\n",
       "    .dataframe tbody tr th {\n",
       "        vertical-align: top;\n",
       "    }\n",
       "\n",
       "    .dataframe thead th {\n",
       "        text-align: right;\n",
       "    }\n",
       "</style>\n",
       "<table border=\"1\" class=\"dataframe\">\n",
       "  <thead>\n",
       "    <tr style=\"text-align: right;\">\n",
       "      <th></th>\n",
       "      <th>House Number</th>\n",
       "      <th>Street</th>\n",
       "      <th>First Name</th>\n",
       "      <th>Surname</th>\n",
       "      <th>Age</th>\n",
       "      <th>Relationship to Head of House</th>\n",
       "      <th>Marital Status</th>\n",
       "      <th>Gender</th>\n",
       "      <th>Occupation</th>\n",
       "      <th>Infirmity</th>\n",
       "      <th>Religion</th>\n",
       "    </tr>\n",
       "  </thead>\n",
       "  <tbody>\n",
       "    <tr>\n",
       "      <th>1002</th>\n",
       "      <td>1</td>\n",
       "      <td>Taylor Grove</td>\n",
       "      <td>Pamela</td>\n",
       "      <td>Edwards</td>\n",
       "      <td>69</td>\n",
       "      <td>Head</td>\n",
       "      <td>Married</td>\n",
       "      <td></td>\n",
       "      <td>Retired Engineer, technical sales</td>\n",
       "      <td>NaN</td>\n",
       "      <td>Christian</td>\n",
       "    </tr>\n",
       "    <tr>\n",
       "      <th>6899</th>\n",
       "      <td>8</td>\n",
       "      <td>Tiger Avenue</td>\n",
       "      <td>Leanne</td>\n",
       "      <td>Gill</td>\n",
       "      <td>22</td>\n",
       "      <td>NaN</td>\n",
       "      <td>Single</td>\n",
       "      <td></td>\n",
       "      <td>University Student</td>\n",
       "      <td>NaN</td>\n",
       "      <td>None</td>\n",
       "    </tr>\n",
       "    <tr>\n",
       "      <th>7348</th>\n",
       "      <td>25</td>\n",
       "      <td>Canterbury Well</td>\n",
       "      <td>Irene</td>\n",
       "      <td>Harvey</td>\n",
       "      <td>51</td>\n",
       "      <td>Head</td>\n",
       "      <td>Married</td>\n",
       "      <td></td>\n",
       "      <td>Librarian, public</td>\n",
       "      <td>NaN</td>\n",
       "      <td>Christian</td>\n",
       "    </tr>\n",
       "  </tbody>\n",
       "</table>\n",
       "</div>"
      ],
      "text/plain": [
       "     House Number           Street First Name  Surname  Age   \n",
       "1002            1     Taylor Grove     Pamela  Edwards   69  \\\n",
       "6899            8     Tiger Avenue     Leanne     Gill   22   \n",
       "7348           25  Canterbury Well      Irene   Harvey   51   \n",
       "\n",
       "     Relationship to Head of House Marital Status Gender   \n",
       "1002                          Head        Married         \\\n",
       "6899                           NaN         Single          \n",
       "7348                          Head        Married          \n",
       "\n",
       "                             Occupation Infirmity   Religion  \n",
       "1002  Retired Engineer, technical sales       NaN  Christian  \n",
       "6899                 University Student       NaN       None  \n",
       "7348                  Librarian, public       NaN  Christian  "
      ]
     },
     "execution_count": 1289,
     "metadata": {},
     "output_type": "execute_result"
    }
   ],
   "source": [
    "# Inspecting the Gender column for \n",
    "census_data[census_data['Gender'] == ' ']"
   ]
  },
  {
   "cell_type": "code",
   "execution_count": 1290,
   "id": "e645db56",
   "metadata": {},
   "outputs": [],
   "source": [
    "# On inspecting the 3 rows with ' ' as gender are all feminine names so I change this empty value to Female\n",
    "census_data['Gender'].replace(' ', 'Female', inplace=True)"
   ]
  },
  {
   "cell_type": "code",
   "execution_count": 1291,
   "id": "6a9eee65",
   "metadata": {},
   "outputs": [],
   "source": [
    "# Changed gender to categorical variable\n",
    "census_data['Gender'] = census_data['Gender'].astype('category')"
   ]
  },
  {
   "cell_type": "code",
   "execution_count": 1292,
   "id": "836c45c0",
   "metadata": {},
   "outputs": [],
   "source": [
    "# Changed Marital status column to categorical variable\n",
    "census_data['Marital Status'] = census_data['Marital Status'].astype('category')"
   ]
  },
  {
   "cell_type": "markdown",
   "id": "d9088b90",
   "metadata": {},
   "source": [
    "The below cells will confirm how clean is the data"
   ]
  },
  {
   "cell_type": "code",
   "execution_count": 1293,
   "id": "3ba0b546",
   "metadata": {},
   "outputs": [
    {
     "name": "stdout",
     "output_type": "stream",
     "text": [
      "Missing values in the dataframe:\n",
      " House Number                        0\n",
      "Street                              0\n",
      "First Name                          0\n",
      "Surname                             0\n",
      "Age                                 0\n",
      "Relationship to Head of House     599\n",
      "Marital Status                      0\n",
      "Gender                              0\n",
      "Occupation                          0\n",
      "Infirmity                        8308\n",
      "Religion                            0\n",
      "dtype: int64\n"
     ]
    }
   ],
   "source": [
    "#Check for missing values in the dataframe\n",
    "print(\"Missing values in the dataframe:\\n\", census_data.isnull().sum())"
   ]
  },
  {
   "cell_type": "markdown",
   "id": "f1e07e2e",
   "metadata": {},
   "source": [
    "### 3c. Cleaning 'Relationship to head of house' column"
   ]
  },
  {
   "cell_type": "code",
   "execution_count": 1294,
   "id": "5a563353",
   "metadata": {
    "scrolled": true
   },
   "outputs": [
    {
     "data": {
      "text/html": [
       "<div>\n",
       "<style scoped>\n",
       "    .dataframe tbody tr th:only-of-type {\n",
       "        vertical-align: middle;\n",
       "    }\n",
       "\n",
       "    .dataframe tbody tr th {\n",
       "        vertical-align: top;\n",
       "    }\n",
       "\n",
       "    .dataframe thead th {\n",
       "        text-align: right;\n",
       "    }\n",
       "</style>\n",
       "<table border=\"1\" class=\"dataframe\">\n",
       "  <thead>\n",
       "    <tr style=\"text-align: right;\">\n",
       "      <th></th>\n",
       "      <th>House Number</th>\n",
       "      <th>Street</th>\n",
       "      <th>First Name</th>\n",
       "      <th>Surname</th>\n",
       "      <th>Age</th>\n",
       "      <th>Relationship to Head of House</th>\n",
       "      <th>Marital Status</th>\n",
       "      <th>Gender</th>\n",
       "      <th>Occupation</th>\n",
       "      <th>Infirmity</th>\n",
       "      <th>Religion</th>\n",
       "    </tr>\n",
       "  </thead>\n",
       "  <tbody>\n",
       "    <tr>\n",
       "      <th>19</th>\n",
       "      <td>6</td>\n",
       "      <td>Regentchain Avenue</td>\n",
       "      <td>Bethan</td>\n",
       "      <td>Stevenson</td>\n",
       "      <td>24</td>\n",
       "      <td>NaN</td>\n",
       "      <td>Single</td>\n",
       "      <td>Female</td>\n",
       "      <td>Contracting civil engineer</td>\n",
       "      <td>NaN</td>\n",
       "      <td>None</td>\n",
       "    </tr>\n",
       "    <tr>\n",
       "      <th>20</th>\n",
       "      <td>6</td>\n",
       "      <td>Regentchain Avenue</td>\n",
       "      <td>Douglas</td>\n",
       "      <td>Austin</td>\n",
       "      <td>30</td>\n",
       "      <td>NaN</td>\n",
       "      <td>Single</td>\n",
       "      <td>Male</td>\n",
       "      <td>Surveyor, building</td>\n",
       "      <td>NaN</td>\n",
       "      <td>None</td>\n",
       "    </tr>\n",
       "    <tr>\n",
       "      <th>21</th>\n",
       "      <td>6</td>\n",
       "      <td>Regentchain Avenue</td>\n",
       "      <td>Brian</td>\n",
       "      <td>Miles</td>\n",
       "      <td>57</td>\n",
       "      <td>NaN</td>\n",
       "      <td>Divorced</td>\n",
       "      <td>Male</td>\n",
       "      <td>Editor, film/video</td>\n",
       "      <td>NaN</td>\n",
       "      <td>Christian</td>\n",
       "    </tr>\n",
       "    <tr>\n",
       "      <th>22</th>\n",
       "      <td>6</td>\n",
       "      <td>Regentchain Avenue</td>\n",
       "      <td>Leigh</td>\n",
       "      <td>Johnson</td>\n",
       "      <td>53</td>\n",
       "      <td>NaN</td>\n",
       "      <td>Single</td>\n",
       "      <td>Male</td>\n",
       "      <td>Hospital doctor</td>\n",
       "      <td>NaN</td>\n",
       "      <td>Christian</td>\n",
       "    </tr>\n",
       "    <tr>\n",
       "      <th>23</th>\n",
       "      <td>6</td>\n",
       "      <td>Regentchain Avenue</td>\n",
       "      <td>Jodie</td>\n",
       "      <td>Elliott</td>\n",
       "      <td>43</td>\n",
       "      <td>NaN</td>\n",
       "      <td>Single</td>\n",
       "      <td>Female</td>\n",
       "      <td>Engineer, civil (consulting)</td>\n",
       "      <td>NaN</td>\n",
       "      <td>None</td>\n",
       "    </tr>\n",
       "    <tr>\n",
       "      <th>...</th>\n",
       "      <td>...</td>\n",
       "      <td>...</td>\n",
       "      <td>...</td>\n",
       "      <td>...</td>\n",
       "      <td>...</td>\n",
       "      <td>...</td>\n",
       "      <td>...</td>\n",
       "      <td>...</td>\n",
       "      <td>...</td>\n",
       "      <td>...</td>\n",
       "      <td>...</td>\n",
       "    </tr>\n",
       "    <tr>\n",
       "      <th>8345</th>\n",
       "      <td>1</td>\n",
       "      <td>Parrot Hall</td>\n",
       "      <td>Mohammad</td>\n",
       "      <td>Foster</td>\n",
       "      <td>24</td>\n",
       "      <td>NaN</td>\n",
       "      <td>Single</td>\n",
       "      <td>Male</td>\n",
       "      <td>Surveyor, building</td>\n",
       "      <td>NaN</td>\n",
       "      <td>None</td>\n",
       "    </tr>\n",
       "    <tr>\n",
       "      <th>8346</th>\n",
       "      <td>1</td>\n",
       "      <td>Parrot Hall</td>\n",
       "      <td>Bethan</td>\n",
       "      <td>Dale</td>\n",
       "      <td>35</td>\n",
       "      <td>NaN</td>\n",
       "      <td>Single</td>\n",
       "      <td>Female</td>\n",
       "      <td>Politician's assistant</td>\n",
       "      <td>NaN</td>\n",
       "      <td>Catholic</td>\n",
       "    </tr>\n",
       "    <tr>\n",
       "      <th>8359</th>\n",
       "      <td>1</td>\n",
       "      <td>Hutchinson House</td>\n",
       "      <td>Stacey</td>\n",
       "      <td>Woodward</td>\n",
       "      <td>43</td>\n",
       "      <td>NaN</td>\n",
       "      <td>Single</td>\n",
       "      <td>Female</td>\n",
       "      <td>Secretary/administrator</td>\n",
       "      <td>NaN</td>\n",
       "      <td>Christian</td>\n",
       "    </tr>\n",
       "    <tr>\n",
       "      <th>8360</th>\n",
       "      <td>1</td>\n",
       "      <td>Hutchinson House</td>\n",
       "      <td>Ashley</td>\n",
       "      <td>Morgan</td>\n",
       "      <td>33</td>\n",
       "      <td>NaN</td>\n",
       "      <td>Single</td>\n",
       "      <td>Male</td>\n",
       "      <td>Horticulturist, commercial</td>\n",
       "      <td>NaN</td>\n",
       "      <td>None</td>\n",
       "    </tr>\n",
       "    <tr>\n",
       "      <th>8361</th>\n",
       "      <td>1</td>\n",
       "      <td>Hutchinson House</td>\n",
       "      <td>Christian</td>\n",
       "      <td>Brown</td>\n",
       "      <td>55</td>\n",
       "      <td>NaN</td>\n",
       "      <td>Single</td>\n",
       "      <td>Male</td>\n",
       "      <td>Surveyor, rural practice</td>\n",
       "      <td>NaN</td>\n",
       "      <td>Christian</td>\n",
       "    </tr>\n",
       "  </tbody>\n",
       "</table>\n",
       "<p>599 rows × 11 columns</p>\n",
       "</div>"
      ],
      "text/plain": [
       "     House Number              Street First Name    Surname  Age   \n",
       "19              6  Regentchain Avenue     Bethan  Stevenson   24  \\\n",
       "20              6  Regentchain Avenue    Douglas     Austin   30   \n",
       "21              6  Regentchain Avenue      Brian      Miles   57   \n",
       "22              6  Regentchain Avenue      Leigh    Johnson   53   \n",
       "23              6  Regentchain Avenue      Jodie    Elliott   43   \n",
       "...           ...                 ...        ...        ...  ...   \n",
       "8345            1         Parrot Hall   Mohammad     Foster   24   \n",
       "8346            1         Parrot Hall     Bethan       Dale   35   \n",
       "8359            1    Hutchinson House     Stacey   Woodward   43   \n",
       "8360            1    Hutchinson House     Ashley     Morgan   33   \n",
       "8361            1    Hutchinson House  Christian      Brown   55   \n",
       "\n",
       "     Relationship to Head of House Marital Status  Gender   \n",
       "19                             NaN         Single  Female  \\\n",
       "20                             NaN         Single    Male   \n",
       "21                             NaN       Divorced    Male   \n",
       "22                             NaN         Single    Male   \n",
       "23                             NaN         Single  Female   \n",
       "...                            ...            ...     ...   \n",
       "8345                           NaN         Single    Male   \n",
       "8346                           NaN         Single  Female   \n",
       "8359                           NaN         Single  Female   \n",
       "8360                           NaN         Single    Male   \n",
       "8361                           NaN         Single    Male   \n",
       "\n",
       "                        Occupation Infirmity   Religion  \n",
       "19      Contracting civil engineer       NaN       None  \n",
       "20              Surveyor, building       NaN       None  \n",
       "21              Editor, film/video       NaN  Christian  \n",
       "22                 Hospital doctor       NaN  Christian  \n",
       "23    Engineer, civil (consulting)       NaN       None  \n",
       "...                            ...       ...        ...  \n",
       "8345            Surveyor, building       NaN       None  \n",
       "8346        Politician's assistant       NaN   Catholic  \n",
       "8359       Secretary/administrator       NaN  Christian  \n",
       "8360    Horticulturist, commercial       NaN       None  \n",
       "8361      Surveyor, rural practice       NaN  Christian  \n",
       "\n",
       "[599 rows x 11 columns]"
      ]
     },
     "execution_count": 1294,
     "metadata": {},
     "output_type": "execute_result"
    }
   ],
   "source": [
    "# Checking for nan values \n",
    "census_data[census_data['Relationship to Head of House'].isna()]"
   ]
  },
  {
   "cell_type": "code",
   "execution_count": 1295,
   "id": "3c77c84f",
   "metadata": {},
   "outputs": [
    {
     "data": {
      "text/plain": [
       "array(['Head', 'Daughter', 'Son', 'Wife', 'Husband', nan, 'Partner',\n",
       "       'Lodger', 'Grandson', 'Granddaughter', 'Sibling', 'Visitor',\n",
       "       'Cousin', 'Adopted Daughter', 'Nephew', 'Neice', 'Adopted Son',\n",
       "       'Step-Son', 'Step-Daughter', 'Adopted Granddaughter'], dtype=object)"
      ]
     },
     "execution_count": 1295,
     "metadata": {},
     "output_type": "execute_result"
    }
   ],
   "source": [
    "# Checking for unique values\n",
    "census_data['Relationship to Head of House'].unique()"
   ]
  },
  {
   "cell_type": "markdown",
   "id": "b6c23f9d",
   "metadata": {},
   "source": [
    "Cleaning the NaN values in Relationship to head of house column"
   ]
  },
  {
   "cell_type": "code",
   "execution_count": 1296,
   "id": "291d64c2",
   "metadata": {},
   "outputs": [
    {
     "data": {
      "text/html": [
       "<div>\n",
       "<style scoped>\n",
       "    .dataframe tbody tr th:only-of-type {\n",
       "        vertical-align: middle;\n",
       "    }\n",
       "\n",
       "    .dataframe tbody tr th {\n",
       "        vertical-align: top;\n",
       "    }\n",
       "\n",
       "    .dataframe thead th {\n",
       "        text-align: right;\n",
       "    }\n",
       "</style>\n",
       "<table border=\"1\" class=\"dataframe\">\n",
       "  <thead>\n",
       "    <tr style=\"text-align: right;\">\n",
       "      <th></th>\n",
       "      <th>House Number</th>\n",
       "      <th>Street</th>\n",
       "      <th>First Name</th>\n",
       "      <th>Surname</th>\n",
       "      <th>Age</th>\n",
       "      <th>Relationship to Head of House</th>\n",
       "      <th>Marital Status</th>\n",
       "      <th>Gender</th>\n",
       "      <th>Occupation</th>\n",
       "      <th>Infirmity</th>\n",
       "      <th>Religion</th>\n",
       "    </tr>\n",
       "  </thead>\n",
       "  <tbody>\n",
       "    <tr>\n",
       "      <th>1435</th>\n",
       "      <td>13</td>\n",
       "      <td>Yucca Drive</td>\n",
       "      <td>Frank</td>\n",
       "      <td>French</td>\n",
       "      <td>15</td>\n",
       "      <td>NaN</td>\n",
       "      <td>Not applicable</td>\n",
       "      <td>Male</td>\n",
       "      <td>Student</td>\n",
       "      <td>NaN</td>\n",
       "      <td>Undecided</td>\n",
       "    </tr>\n",
       "    <tr>\n",
       "      <th>6154</th>\n",
       "      <td>6</td>\n",
       "      <td>Singh Burgs</td>\n",
       "      <td>Sharon</td>\n",
       "      <td>Palmer</td>\n",
       "      <td>10</td>\n",
       "      <td>NaN</td>\n",
       "      <td>Not applicable</td>\n",
       "      <td>Female</td>\n",
       "      <td>Student</td>\n",
       "      <td>NaN</td>\n",
       "      <td>Undecided</td>\n",
       "    </tr>\n",
       "  </tbody>\n",
       "</table>\n",
       "</div>"
      ],
      "text/plain": [
       "     House Number       Street First Name Surname  Age   \n",
       "1435           13  Yucca Drive      Frank  French   15  \\\n",
       "6154            6  Singh Burgs     Sharon  Palmer   10   \n",
       "\n",
       "     Relationship to Head of House  Marital Status  Gender Occupation   \n",
       "1435                           NaN  Not applicable    Male    Student  \\\n",
       "6154                           NaN  Not applicable  Female    Student   \n",
       "\n",
       "     Infirmity   Religion  \n",
       "1435       NaN  Undecided  \n",
       "6154       NaN  Undecided  "
      ]
     },
     "execution_count": 1296,
     "metadata": {},
     "output_type": "execute_result"
    }
   ],
   "source": [
    "# Create a dataframe to hold head of house information\n",
    "head_of_house = census_data[(census_data['Relationship to Head of House'] == 'Head')][['Street', 'House Number']]\n",
    "\n",
    "\n",
    "# Replace missing values in \"Relationship to Head of House\" column\n",
    "for index, row in census_data.iterrows():\n",
    "    if row['Age'] >= 18 and pd.isna(row['Relationship to Head of House']):\n",
    "        if (head_of_house['Street'] == row['Street']).any() and (head_of_house['House Number'] == row['House Number']).any():\n",
    "            census_data.loc[index, 'Relationship to Head of House'] = 'Lodger'\n",
    "\n",
    "# Verify if it worked\n",
    "census_data[census_data['Relationship to Head of House'].isna()]"
   ]
  },
  {
   "cell_type": "markdown",
   "id": "91a9d949",
   "metadata": {},
   "source": [
    "From the above we still have 2 rows not resolved. I will inspect the rows with house house number and steeet the get the relationship of these two rows to others"
   ]
  },
  {
   "cell_type": "code",
   "execution_count": 1297,
   "id": "dcf7acef",
   "metadata": {},
   "outputs": [
    {
     "data": {
      "text/html": [
       "<div>\n",
       "<style scoped>\n",
       "    .dataframe tbody tr th:only-of-type {\n",
       "        vertical-align: middle;\n",
       "    }\n",
       "\n",
       "    .dataframe tbody tr th {\n",
       "        vertical-align: top;\n",
       "    }\n",
       "\n",
       "    .dataframe thead th {\n",
       "        text-align: right;\n",
       "    }\n",
       "</style>\n",
       "<table border=\"1\" class=\"dataframe\">\n",
       "  <thead>\n",
       "    <tr style=\"text-align: right;\">\n",
       "      <th></th>\n",
       "      <th>House Number</th>\n",
       "      <th>Street</th>\n",
       "      <th>First Name</th>\n",
       "      <th>Surname</th>\n",
       "      <th>Age</th>\n",
       "      <th>Relationship to Head of House</th>\n",
       "      <th>Marital Status</th>\n",
       "      <th>Gender</th>\n",
       "      <th>Occupation</th>\n",
       "      <th>Infirmity</th>\n",
       "      <th>Religion</th>\n",
       "    </tr>\n",
       "  </thead>\n",
       "  <tbody>\n",
       "    <tr>\n",
       "      <th>1404</th>\n",
       "      <td>6</td>\n",
       "      <td>Yucca Drive</td>\n",
       "      <td>Rosemary</td>\n",
       "      <td>Thomson</td>\n",
       "      <td>61</td>\n",
       "      <td>Head</td>\n",
       "      <td>Married</td>\n",
       "      <td>Female</td>\n",
       "      <td>Engineer, energy</td>\n",
       "      <td>NaN</td>\n",
       "      <td>None</td>\n",
       "    </tr>\n",
       "    <tr>\n",
       "      <th>1405</th>\n",
       "      <td>6</td>\n",
       "      <td>Yucca Drive</td>\n",
       "      <td>Kevin</td>\n",
       "      <td>Thomson</td>\n",
       "      <td>60</td>\n",
       "      <td>Husband</td>\n",
       "      <td>Married</td>\n",
       "      <td>Male</td>\n",
       "      <td>Restaurant manager</td>\n",
       "      <td>NaN</td>\n",
       "      <td>None</td>\n",
       "    </tr>\n",
       "    <tr>\n",
       "      <th>1406</th>\n",
       "      <td>6</td>\n",
       "      <td>Yucca Drive</td>\n",
       "      <td>Nicholas</td>\n",
       "      <td>Thomson</td>\n",
       "      <td>32</td>\n",
       "      <td>Son</td>\n",
       "      <td>Single</td>\n",
       "      <td>Male</td>\n",
       "      <td>Commercial/residential surveyor</td>\n",
       "      <td>NaN</td>\n",
       "      <td>None</td>\n",
       "    </tr>\n",
       "    <tr>\n",
       "      <th>1407</th>\n",
       "      <td>6</td>\n",
       "      <td>Yucca Drive</td>\n",
       "      <td>Bruce</td>\n",
       "      <td>Thomson</td>\n",
       "      <td>32</td>\n",
       "      <td>Son</td>\n",
       "      <td>Single</td>\n",
       "      <td>Male</td>\n",
       "      <td>Therapist, music</td>\n",
       "      <td>NaN</td>\n",
       "      <td>None</td>\n",
       "    </tr>\n",
       "    <tr>\n",
       "      <th>1430</th>\n",
       "      <td>13</td>\n",
       "      <td>Yucca Drive</td>\n",
       "      <td>Sam</td>\n",
       "      <td>Ali</td>\n",
       "      <td>82</td>\n",
       "      <td>Head</td>\n",
       "      <td>Married</td>\n",
       "      <td>Male</td>\n",
       "      <td>Retired Private music teacher</td>\n",
       "      <td>NaN</td>\n",
       "      <td>Christian</td>\n",
       "    </tr>\n",
       "    <tr>\n",
       "      <th>1431</th>\n",
       "      <td>13</td>\n",
       "      <td>Yucca Drive</td>\n",
       "      <td>Rosie</td>\n",
       "      <td>Ali</td>\n",
       "      <td>83</td>\n",
       "      <td>Wife</td>\n",
       "      <td>Married</td>\n",
       "      <td>Female</td>\n",
       "      <td>Retired Solicitor</td>\n",
       "      <td>NaN</td>\n",
       "      <td>Christian</td>\n",
       "    </tr>\n",
       "    <tr>\n",
       "      <th>1432</th>\n",
       "      <td>13</td>\n",
       "      <td>Yucca Drive</td>\n",
       "      <td>Pauline</td>\n",
       "      <td>French</td>\n",
       "      <td>43</td>\n",
       "      <td>Lodger</td>\n",
       "      <td>Married</td>\n",
       "      <td>Female</td>\n",
       "      <td>Designer, blown glass/stained glass</td>\n",
       "      <td>NaN</td>\n",
       "      <td>None</td>\n",
       "    </tr>\n",
       "    <tr>\n",
       "      <th>1433</th>\n",
       "      <td>13</td>\n",
       "      <td>Yucca Drive</td>\n",
       "      <td>Ben</td>\n",
       "      <td>French</td>\n",
       "      <td>42</td>\n",
       "      <td>Lodger</td>\n",
       "      <td>Married</td>\n",
       "      <td>Male</td>\n",
       "      <td>Education administrator</td>\n",
       "      <td>NaN</td>\n",
       "      <td>None</td>\n",
       "    </tr>\n",
       "    <tr>\n",
       "      <th>1434</th>\n",
       "      <td>13</td>\n",
       "      <td>Yucca Drive</td>\n",
       "      <td>Frances</td>\n",
       "      <td>French</td>\n",
       "      <td>18</td>\n",
       "      <td>Lodger</td>\n",
       "      <td>Single</td>\n",
       "      <td>Female</td>\n",
       "      <td>Student</td>\n",
       "      <td>NaN</td>\n",
       "      <td>None</td>\n",
       "    </tr>\n",
       "    <tr>\n",
       "      <th>1435</th>\n",
       "      <td>13</td>\n",
       "      <td>Yucca Drive</td>\n",
       "      <td>Frank</td>\n",
       "      <td>French</td>\n",
       "      <td>15</td>\n",
       "      <td>NaN</td>\n",
       "      <td>Not applicable</td>\n",
       "      <td>Male</td>\n",
       "      <td>Student</td>\n",
       "      <td>NaN</td>\n",
       "      <td>Undecided</td>\n",
       "    </tr>\n",
       "    <tr>\n",
       "      <th>6150</th>\n",
       "      <td>6</td>\n",
       "      <td>Singh Burgs</td>\n",
       "      <td>Georgia</td>\n",
       "      <td>Howells</td>\n",
       "      <td>90</td>\n",
       "      <td>Head</td>\n",
       "      <td>Married</td>\n",
       "      <td>Female</td>\n",
       "      <td>Retired Retail buyer</td>\n",
       "      <td>NaN</td>\n",
       "      <td>Christian</td>\n",
       "    </tr>\n",
       "    <tr>\n",
       "      <th>6151</th>\n",
       "      <td>6</td>\n",
       "      <td>Singh Burgs</td>\n",
       "      <td>Joe</td>\n",
       "      <td>Howells</td>\n",
       "      <td>90</td>\n",
       "      <td>Husband</td>\n",
       "      <td>Married</td>\n",
       "      <td>Male</td>\n",
       "      <td>Unemployed</td>\n",
       "      <td>NaN</td>\n",
       "      <td>None</td>\n",
       "    </tr>\n",
       "    <tr>\n",
       "      <th>6152</th>\n",
       "      <td>6</td>\n",
       "      <td>Singh Burgs</td>\n",
       "      <td>Valerie</td>\n",
       "      <td>Palmer</td>\n",
       "      <td>42</td>\n",
       "      <td>Lodger</td>\n",
       "      <td>Married</td>\n",
       "      <td>Female</td>\n",
       "      <td>Doctor, general practice</td>\n",
       "      <td>NaN</td>\n",
       "      <td>None</td>\n",
       "    </tr>\n",
       "    <tr>\n",
       "      <th>6153</th>\n",
       "      <td>6</td>\n",
       "      <td>Singh Burgs</td>\n",
       "      <td>James</td>\n",
       "      <td>Palmer</td>\n",
       "      <td>44</td>\n",
       "      <td>Lodger</td>\n",
       "      <td>Married</td>\n",
       "      <td>Male</td>\n",
       "      <td>Television/film/video producer</td>\n",
       "      <td>NaN</td>\n",
       "      <td>None</td>\n",
       "    </tr>\n",
       "    <tr>\n",
       "      <th>6154</th>\n",
       "      <td>6</td>\n",
       "      <td>Singh Burgs</td>\n",
       "      <td>Sharon</td>\n",
       "      <td>Palmer</td>\n",
       "      <td>10</td>\n",
       "      <td>NaN</td>\n",
       "      <td>Not applicable</td>\n",
       "      <td>Female</td>\n",
       "      <td>Student</td>\n",
       "      <td>NaN</td>\n",
       "      <td>Undecided</td>\n",
       "    </tr>\n",
       "    <tr>\n",
       "      <th>6206</th>\n",
       "      <td>13</td>\n",
       "      <td>Singh Burgs</td>\n",
       "      <td>Lynn</td>\n",
       "      <td>Parkinson</td>\n",
       "      <td>66</td>\n",
       "      <td>Head</td>\n",
       "      <td>Widowed</td>\n",
       "      <td>Female</td>\n",
       "      <td>Accountant, chartered</td>\n",
       "      <td>NaN</td>\n",
       "      <td>Christian</td>\n",
       "    </tr>\n",
       "    <tr>\n",
       "      <th>6207</th>\n",
       "      <td>13</td>\n",
       "      <td>Singh Burgs</td>\n",
       "      <td>Donna</td>\n",
       "      <td>Parkinson</td>\n",
       "      <td>39</td>\n",
       "      <td>Daughter</td>\n",
       "      <td>Single</td>\n",
       "      <td>Female</td>\n",
       "      <td>Designer, interior/spatial</td>\n",
       "      <td>NaN</td>\n",
       "      <td>Christian</td>\n",
       "    </tr>\n",
       "    <tr>\n",
       "      <th>6208</th>\n",
       "      <td>13</td>\n",
       "      <td>Singh Burgs</td>\n",
       "      <td>Marilyn</td>\n",
       "      <td>Coates</td>\n",
       "      <td>35</td>\n",
       "      <td>Daughter</td>\n",
       "      <td>Divorced</td>\n",
       "      <td>Female</td>\n",
       "      <td>Archaeologist</td>\n",
       "      <td>NaN</td>\n",
       "      <td>Christian</td>\n",
       "    </tr>\n",
       "    <tr>\n",
       "      <th>6209</th>\n",
       "      <td>13</td>\n",
       "      <td>Singh Burgs</td>\n",
       "      <td>Adam</td>\n",
       "      <td>Coates</td>\n",
       "      <td>33</td>\n",
       "      <td>Son</td>\n",
       "      <td>Divorced</td>\n",
       "      <td>Male</td>\n",
       "      <td>Proofreader</td>\n",
       "      <td>NaN</td>\n",
       "      <td>Christian</td>\n",
       "    </tr>\n",
       "    <tr>\n",
       "      <th>6210</th>\n",
       "      <td>13</td>\n",
       "      <td>Singh Burgs</td>\n",
       "      <td>Ellie</td>\n",
       "      <td>Coates</td>\n",
       "      <td>30</td>\n",
       "      <td>Daughter</td>\n",
       "      <td>Single</td>\n",
       "      <td>Female</td>\n",
       "      <td>Advice worker</td>\n",
       "      <td>NaN</td>\n",
       "      <td>Christian</td>\n",
       "    </tr>\n",
       "  </tbody>\n",
       "</table>\n",
       "</div>"
      ],
      "text/plain": [
       "     House Number       Street First Name    Surname  Age   \n",
       "1404            6  Yucca Drive   Rosemary    Thomson   61  \\\n",
       "1405            6  Yucca Drive      Kevin    Thomson   60   \n",
       "1406            6  Yucca Drive   Nicholas    Thomson   32   \n",
       "1407            6  Yucca Drive      Bruce    Thomson   32   \n",
       "1430           13  Yucca Drive        Sam        Ali   82   \n",
       "1431           13  Yucca Drive      Rosie        Ali   83   \n",
       "1432           13  Yucca Drive    Pauline     French   43   \n",
       "1433           13  Yucca Drive        Ben     French   42   \n",
       "1434           13  Yucca Drive    Frances     French   18   \n",
       "1435           13  Yucca Drive      Frank     French   15   \n",
       "6150            6  Singh Burgs    Georgia    Howells   90   \n",
       "6151            6  Singh Burgs        Joe    Howells   90   \n",
       "6152            6  Singh Burgs    Valerie     Palmer   42   \n",
       "6153            6  Singh Burgs      James     Palmer   44   \n",
       "6154            6  Singh Burgs     Sharon     Palmer   10   \n",
       "6206           13  Singh Burgs       Lynn  Parkinson   66   \n",
       "6207           13  Singh Burgs      Donna  Parkinson   39   \n",
       "6208           13  Singh Burgs    Marilyn     Coates   35   \n",
       "6209           13  Singh Burgs       Adam     Coates   33   \n",
       "6210           13  Singh Burgs      Ellie     Coates   30   \n",
       "\n",
       "     Relationship to Head of House  Marital Status  Gender   \n",
       "1404                          Head         Married  Female  \\\n",
       "1405                       Husband         Married    Male   \n",
       "1406                           Son          Single    Male   \n",
       "1407                           Son          Single    Male   \n",
       "1430                          Head         Married    Male   \n",
       "1431                          Wife         Married  Female   \n",
       "1432                        Lodger         Married  Female   \n",
       "1433                        Lodger         Married    Male   \n",
       "1434                        Lodger          Single  Female   \n",
       "1435                           NaN  Not applicable    Male   \n",
       "6150                          Head         Married  Female   \n",
       "6151                       Husband         Married    Male   \n",
       "6152                        Lodger         Married  Female   \n",
       "6153                        Lodger         Married    Male   \n",
       "6154                           NaN  Not applicable  Female   \n",
       "6206                          Head         Widowed  Female   \n",
       "6207                      Daughter          Single  Female   \n",
       "6208                      Daughter        Divorced  Female   \n",
       "6209                           Son        Divorced    Male   \n",
       "6210                      Daughter          Single  Female   \n",
       "\n",
       "                               Occupation Infirmity   Religion  \n",
       "1404                     Engineer, energy       NaN       None  \n",
       "1405                   Restaurant manager       NaN       None  \n",
       "1406      Commercial/residential surveyor       NaN       None  \n",
       "1407                     Therapist, music       NaN       None  \n",
       "1430        Retired Private music teacher       NaN  Christian  \n",
       "1431                    Retired Solicitor       NaN  Christian  \n",
       "1432  Designer, blown glass/stained glass       NaN       None  \n",
       "1433              Education administrator       NaN       None  \n",
       "1434                              Student       NaN       None  \n",
       "1435                              Student       NaN  Undecided  \n",
       "6150                 Retired Retail buyer       NaN  Christian  \n",
       "6151                           Unemployed       NaN       None  \n",
       "6152             Doctor, general practice       NaN       None  \n",
       "6153       Television/film/video producer       NaN       None  \n",
       "6154                              Student       NaN  Undecided  \n",
       "6206                Accountant, chartered       NaN  Christian  \n",
       "6207           Designer, interior/spatial       NaN  Christian  \n",
       "6208                        Archaeologist       NaN  Christian  \n",
       "6209                          Proofreader       NaN  Christian  \n",
       "6210                        Advice worker       NaN  Christian  "
      ]
     },
     "execution_count": 1297,
     "metadata": {},
     "output_type": "execute_result"
    }
   ],
   "source": [
    "# Inspecting the rows using house number and street\n",
    "house_num = ['13', '6']\n",
    "street_names =['Yucca Drive', 'Singh Burgs']\n",
    "census_data[census_data['House Number'].isin(house_num) & census_data['Street'].isin(street_names)]\n"
   ]
  },
  {
   "cell_type": "markdown",
   "id": "2ff7de0e",
   "metadata": {},
   "source": [
    "From this inspection it is seen that the two under 18 are children of other adult lodgers because of the same surname"
   ]
  },
  {
   "cell_type": "code",
   "execution_count": 1298,
   "id": "8e5818b9",
   "metadata": {},
   "outputs": [
    {
     "data": {
      "text/html": [
       "<div>\n",
       "<style scoped>\n",
       "    .dataframe tbody tr th:only-of-type {\n",
       "        vertical-align: middle;\n",
       "    }\n",
       "\n",
       "    .dataframe tbody tr th {\n",
       "        vertical-align: top;\n",
       "    }\n",
       "\n",
       "    .dataframe thead th {\n",
       "        text-align: right;\n",
       "    }\n",
       "</style>\n",
       "<table border=\"1\" class=\"dataframe\">\n",
       "  <thead>\n",
       "    <tr style=\"text-align: right;\">\n",
       "      <th></th>\n",
       "      <th>House Number</th>\n",
       "      <th>Street</th>\n",
       "      <th>First Name</th>\n",
       "      <th>Surname</th>\n",
       "      <th>Age</th>\n",
       "      <th>Relationship to Head of House</th>\n",
       "      <th>Marital Status</th>\n",
       "      <th>Gender</th>\n",
       "      <th>Occupation</th>\n",
       "      <th>Infirmity</th>\n",
       "      <th>Religion</th>\n",
       "    </tr>\n",
       "  </thead>\n",
       "  <tbody>\n",
       "  </tbody>\n",
       "</table>\n",
       "</div>"
      ],
      "text/plain": [
       "Empty DataFrame\n",
       "Columns: [House Number, Street, First Name, Surname, Age, Relationship to Head of House, Marital Status, Gender, Occupation, Infirmity, Religion]\n",
       "Index: []"
      ]
     },
     "execution_count": 1298,
     "metadata": {},
     "output_type": "execute_result"
    }
   ],
   "source": [
    "# Define young_lodgers to be rows less than 18 for the two houses \n",
    "young_lodgers = (census_data['House Number'].isin(house_num)) & (census_data['Street'].isin(street_names)) & (census_data['Age'] < 18)\n",
    "\n",
    "# Replace the NaN values with 'Lodger'\n",
    "census_data.loc[young_lodgers, 'Relationship to Head of House'] = 'Lodger'\n",
    "# Verify if it worked\n",
    "census_data[census_data['Relationship to Head of House'].isna()]"
   ]
  },
  {
   "cell_type": "markdown",
   "id": "b24572ef",
   "metadata": {},
   "source": [
    "### 3d. Cleaning 'Infirmity' row"
   ]
  },
  {
   "cell_type": "code",
   "execution_count": 1299,
   "id": "493ae351",
   "metadata": {},
   "outputs": [
    {
     "data": {
      "text/plain": [
       "array([nan, 'Blind', 'None', 'Physical Disability', 'Mental Disability',\n",
       "       'Deaf', 'Unknown Infection', 'Disabled'], dtype=object)"
      ]
     },
     "execution_count": 1299,
     "metadata": {},
     "output_type": "execute_result"
    }
   ],
   "source": [
    "census_data['Infirmity'].unique()"
   ]
  },
  {
   "cell_type": "markdown",
   "id": "30091045",
   "metadata": {},
   "source": [
    "These column with empty values for 'Infirmity' columns can be seen as having no infirmity that 'None'"
   ]
  },
  {
   "cell_type": "code",
   "execution_count": 1300,
   "id": "8baa116e",
   "metadata": {},
   "outputs": [
    {
     "data": {
      "text/plain": [
       "array(['None', 'Blind', 'Physical Disability', 'Mental Disability',\n",
       "       'Deaf', 'Unknown Infection', 'Disabled'], dtype=object)"
      ]
     },
     "execution_count": 1300,
     "metadata": {},
     "output_type": "execute_result"
    }
   ],
   "source": [
    "# Replacing the NaN values with 'None'\n",
    "census_data['Infirmity'] = census_data['Infirmity'].fillna('None')\n",
    "\n",
    "# Checking for unique values again\n",
    "census_data['Infirmity'].unique()"
   ]
  },
  {
   "cell_type": "code",
   "execution_count": null,
   "id": "26635362",
   "metadata": {},
   "outputs": [],
   "source": []
  },
  {
   "cell_type": "markdown",
   "id": "669950a0",
   "metadata": {},
   "source": [
    "### 3e. Cleaning 'First Name' column"
   ]
  },
  {
   "cell_type": "code",
   "execution_count": 1301,
   "id": "adda7d56",
   "metadata": {},
   "outputs": [
    {
     "data": {
      "text/html": [
       "<div>\n",
       "<style scoped>\n",
       "    .dataframe tbody tr th:only-of-type {\n",
       "        vertical-align: middle;\n",
       "    }\n",
       "\n",
       "    .dataframe tbody tr th {\n",
       "        vertical-align: top;\n",
       "    }\n",
       "\n",
       "    .dataframe thead th {\n",
       "        text-align: right;\n",
       "    }\n",
       "</style>\n",
       "<table border=\"1\" class=\"dataframe\">\n",
       "  <thead>\n",
       "    <tr style=\"text-align: right;\">\n",
       "      <th></th>\n",
       "      <th>House Number</th>\n",
       "      <th>Street</th>\n",
       "      <th>First Name</th>\n",
       "      <th>Surname</th>\n",
       "      <th>Age</th>\n",
       "      <th>Relationship to Head of House</th>\n",
       "      <th>Marital Status</th>\n",
       "      <th>Gender</th>\n",
       "      <th>Occupation</th>\n",
       "      <th>Infirmity</th>\n",
       "      <th>Religion</th>\n",
       "    </tr>\n",
       "  </thead>\n",
       "  <tbody>\n",
       "    <tr>\n",
       "      <th>1497</th>\n",
       "      <td>4</td>\n",
       "      <td>Power Keys</td>\n",
       "      <td></td>\n",
       "      <td>Frost</td>\n",
       "      <td>88</td>\n",
       "      <td>Head</td>\n",
       "      <td>Widowed</td>\n",
       "      <td>Male</td>\n",
       "      <td>Retired Civil Service fast streamer</td>\n",
       "      <td>None</td>\n",
       "      <td>Methodist</td>\n",
       "    </tr>\n",
       "  </tbody>\n",
       "</table>\n",
       "</div>"
      ],
      "text/plain": [
       "     House Number      Street First Name Surname  Age   \n",
       "1497            4  Power Keys              Frost   88  \\\n",
       "\n",
       "     Relationship to Head of House Marital Status Gender   \n",
       "1497                          Head        Widowed   Male  \\\n",
       "\n",
       "                               Occupation Infirmity   Religion  \n",
       "1497  Retired Civil Service fast streamer      None  Methodist  "
      ]
     },
     "execution_count": 1301,
     "metadata": {},
     "output_type": "execute_result"
    }
   ],
   "source": [
    "census_data[census_data['First Name']== ' ']"
   ]
  },
  {
   "cell_type": "markdown",
   "id": "4d77e23e",
   "metadata": {},
   "source": [
    "Mr Frost is the only one in that house and I cant find relationship or a way to get his first name so I will replace his first name with 'John' from the famous 'John Doe' since he is male"
   ]
  },
  {
   "cell_type": "code",
   "execution_count": 1302,
   "id": "9f666500",
   "metadata": {},
   "outputs": [
    {
     "data": {
      "text/html": [
       "<div>\n",
       "<style scoped>\n",
       "    .dataframe tbody tr th:only-of-type {\n",
       "        vertical-align: middle;\n",
       "    }\n",
       "\n",
       "    .dataframe tbody tr th {\n",
       "        vertical-align: top;\n",
       "    }\n",
       "\n",
       "    .dataframe thead th {\n",
       "        text-align: right;\n",
       "    }\n",
       "</style>\n",
       "<table border=\"1\" class=\"dataframe\">\n",
       "  <thead>\n",
       "    <tr style=\"text-align: right;\">\n",
       "      <th></th>\n",
       "      <th>House Number</th>\n",
       "      <th>Street</th>\n",
       "      <th>First Name</th>\n",
       "      <th>Surname</th>\n",
       "      <th>Age</th>\n",
       "      <th>Relationship to Head of House</th>\n",
       "      <th>Marital Status</th>\n",
       "      <th>Gender</th>\n",
       "      <th>Occupation</th>\n",
       "      <th>Infirmity</th>\n",
       "      <th>Religion</th>\n",
       "    </tr>\n",
       "  </thead>\n",
       "  <tbody>\n",
       "  </tbody>\n",
       "</table>\n",
       "</div>"
      ],
      "text/plain": [
       "Empty DataFrame\n",
       "Columns: [House Number, Street, First Name, Surname, Age, Relationship to Head of House, Marital Status, Gender, Occupation, Infirmity, Religion]\n",
       "Index: []"
      ]
     },
     "execution_count": 1302,
     "metadata": {},
     "output_type": "execute_result"
    }
   ],
   "source": [
    "# Replacing ' ' with 'John'\n",
    "census_data['First Name'].replace(' ', 'John', inplace=True)\n",
    "\n",
    "# Confirming if it works\n",
    "census_data[census_data['First Name']== ' ']"
   ]
  },
  {
   "cell_type": "code",
   "execution_count": 1303,
   "id": "b54d3ee1",
   "metadata": {},
   "outputs": [
    {
     "name": "stdout",
     "output_type": "stream",
     "text": [
      "<class 'pandas.core.frame.DataFrame'>\n",
      "RangeIndex: 8377 entries, 0 to 8376\n",
      "Data columns (total 11 columns):\n",
      " #   Column                         Non-Null Count  Dtype   \n",
      "---  ------                         --------------  -----   \n",
      " 0   House Number                   8377 non-null   object  \n",
      " 1   Street                         8377 non-null   object  \n",
      " 2   First Name                     8377 non-null   object  \n",
      " 3   Surname                        8377 non-null   object  \n",
      " 4   Age                            8377 non-null   int64   \n",
      " 5   Relationship to Head of House  8377 non-null   object  \n",
      " 6   Marital Status                 8377 non-null   category\n",
      " 7   Gender                         8377 non-null   category\n",
      " 8   Occupation                     8377 non-null   object  \n",
      " 9   Infirmity                      8377 non-null   object  \n",
      " 10  Religion                       8377 non-null   object  \n",
      "dtypes: category(2), int64(1), object(8)\n",
      "memory usage: 605.8+ KB\n"
     ]
    }
   ],
   "source": [
    "census_data.info()"
   ]
  },
  {
   "cell_type": "markdown",
   "id": "3084fa5b",
   "metadata": {},
   "source": [
    "## 4. Exploratory Data Analysis and Data Visualization"
   ]
  },
  {
   "cell_type": "code",
   "execution_count": 1304,
   "id": "ef4279d0",
   "metadata": {},
   "outputs": [
    {
     "data": {
      "image/png": "[encoded data removed]",
      "text/plain": [
       "<Figure size 432x288 with 1 Axes>"
      ]
     },
     "metadata": {},
     "output_type": "display_data"
    }
   ],
   "source": [
    "# Age distribution of the population\n",
    "plt.hist(census_data['Age'], bins=10)\n",
    "plt.title('Age Distribution')\n",
    "plt.xlabel('Age')\n",
    "plt.ylabel('Frequency')\n",
    "plt.show()"
   ]
  },
  {
   "cell_type": "code",
   "execution_count": 1305,
   "id": "8e873c28",
   "metadata": {},
   "outputs": [
    {
     "data": {
      "image/png": "[encoded data removed]",
      "text/plain": [
       "<Figure size 432x288 with 1 Axes>"
      ]
     },
     "metadata": {},
     "output_type": "display_data"
    }
   ],
   "source": [
    "# Plot for marital status by gender\n",
    "marital_gender = census_data.groupby(['Marital Status', 'Gender']).size().reset_index(name='count')\n",
    "sns.barplot(data=marital_gender, x='Marital Status', y='count', hue='Gender')\n",
    "plt.xlabel('Marital Status')\n",
    "plt.ylabel('Count')\n",
    "plt.show()"
   ]
  },
  {
   "cell_type": "markdown",
   "id": "ec1be3df",
   "metadata": {},
   "source": [
    "### 4a. Examining Age distribution"
   ]
  },
  {
   "cell_type": "code",
   "execution_count": 1306,
   "id": "27177ab9",
   "metadata": {},
   "outputs": [
    {
     "data": {
      "text/html": [
       "<div>\n",
       "<style scoped>\n",
       "    .dataframe tbody tr th:only-of-type {\n",
       "        vertical-align: middle;\n",
       "    }\n",
       "\n",
       "    .dataframe tbody tr th {\n",
       "        vertical-align: top;\n",
       "    }\n",
       "\n",
       "    .dataframe thead th {\n",
       "        text-align: right;\n",
       "    }\n",
       "</style>\n",
       "<table border=\"1\" class=\"dataframe\">\n",
       "  <thead>\n",
       "    <tr style=\"text-align: right;\">\n",
       "      <th></th>\n",
       "      <th>House Number</th>\n",
       "      <th>Street</th>\n",
       "      <th>First Name</th>\n",
       "      <th>Surname</th>\n",
       "      <th>Age</th>\n",
       "      <th>Relationship to Head of House</th>\n",
       "      <th>Marital Status</th>\n",
       "      <th>Gender</th>\n",
       "      <th>Occupation</th>\n",
       "      <th>Infirmity</th>\n",
       "      <th>Religion</th>\n",
       "      <th>Age Group</th>\n",
       "    </tr>\n",
       "  </thead>\n",
       "  <tbody>\n",
       "    <tr>\n",
       "      <th>0</th>\n",
       "      <td>1</td>\n",
       "      <td>Regentchain Avenue</td>\n",
       "      <td>Ashleigh</td>\n",
       "      <td>Dale</td>\n",
       "      <td>41</td>\n",
       "      <td>Head</td>\n",
       "      <td>Divorced</td>\n",
       "      <td>Female</td>\n",
       "      <td>Field trials officer</td>\n",
       "      <td>None</td>\n",
       "      <td>Catholic</td>\n",
       "      <td>41-50</td>\n",
       "    </tr>\n",
       "    <tr>\n",
       "      <th>1</th>\n",
       "      <td>1</td>\n",
       "      <td>Regentchain Avenue</td>\n",
       "      <td>Deborah</td>\n",
       "      <td>Dale</td>\n",
       "      <td>11</td>\n",
       "      <td>Daughter</td>\n",
       "      <td>Not applicable</td>\n",
       "      <td>Female</td>\n",
       "      <td>Student</td>\n",
       "      <td>None</td>\n",
       "      <td>Undecided</td>\n",
       "      <td>11-15</td>\n",
       "    </tr>\n",
       "    <tr>\n",
       "      <th>2</th>\n",
       "      <td>1</td>\n",
       "      <td>Regentchain Avenue</td>\n",
       "      <td>Gary</td>\n",
       "      <td>Dale</td>\n",
       "      <td>7</td>\n",
       "      <td>Son</td>\n",
       "      <td>Not applicable</td>\n",
       "      <td>Male</td>\n",
       "      <td>Student</td>\n",
       "      <td>None</td>\n",
       "      <td>Undecided</td>\n",
       "      <td>5-10</td>\n",
       "    </tr>\n",
       "    <tr>\n",
       "      <th>3</th>\n",
       "      <td>2</td>\n",
       "      <td>Regentchain Avenue</td>\n",
       "      <td>Edward</td>\n",
       "      <td>Grant</td>\n",
       "      <td>40</td>\n",
       "      <td>Head</td>\n",
       "      <td>Married</td>\n",
       "      <td>Male</td>\n",
       "      <td>Environmental education officer</td>\n",
       "      <td>None</td>\n",
       "      <td>Methodist</td>\n",
       "      <td>31-40</td>\n",
       "    </tr>\n",
       "    <tr>\n",
       "      <th>4</th>\n",
       "      <td>2</td>\n",
       "      <td>Regentchain Avenue</td>\n",
       "      <td>Elizabeth</td>\n",
       "      <td>Grant</td>\n",
       "      <td>35</td>\n",
       "      <td>Wife</td>\n",
       "      <td>Married</td>\n",
       "      <td>Female</td>\n",
       "      <td>Public librarian</td>\n",
       "      <td>None</td>\n",
       "      <td>Catholic</td>\n",
       "      <td>31-40</td>\n",
       "    </tr>\n",
       "    <tr>\n",
       "      <th>5</th>\n",
       "      <td>2</td>\n",
       "      <td>Regentchain Avenue</td>\n",
       "      <td>Catherine</td>\n",
       "      <td>Grant</td>\n",
       "      <td>19</td>\n",
       "      <td>Daughter</td>\n",
       "      <td>Single</td>\n",
       "      <td>Female</td>\n",
       "      <td>University Student</td>\n",
       "      <td>None</td>\n",
       "      <td>None</td>\n",
       "      <td>16-20</td>\n",
       "    </tr>\n",
       "    <tr>\n",
       "      <th>6</th>\n",
       "      <td>2</td>\n",
       "      <td>Regentchain Avenue</td>\n",
       "      <td>Mandy</td>\n",
       "      <td>Grant</td>\n",
       "      <td>17</td>\n",
       "      <td>Daughter</td>\n",
       "      <td>Not applicable</td>\n",
       "      <td>Female</td>\n",
       "      <td>Student</td>\n",
       "      <td>None</td>\n",
       "      <td>Undecided</td>\n",
       "      <td>16-20</td>\n",
       "    </tr>\n",
       "    <tr>\n",
       "      <th>7</th>\n",
       "      <td>2</td>\n",
       "      <td>Regentchain Avenue</td>\n",
       "      <td>Amanda</td>\n",
       "      <td>Grant</td>\n",
       "      <td>11</td>\n",
       "      <td>Daughter</td>\n",
       "      <td>Not applicable</td>\n",
       "      <td>Female</td>\n",
       "      <td>Student</td>\n",
       "      <td>None</td>\n",
       "      <td>Undecided</td>\n",
       "      <td>11-15</td>\n",
       "    </tr>\n",
       "    <tr>\n",
       "      <th>8</th>\n",
       "      <td>3</td>\n",
       "      <td>Regentchain Avenue</td>\n",
       "      <td>Hayley</td>\n",
       "      <td>Hall</td>\n",
       "      <td>60</td>\n",
       "      <td>Head</td>\n",
       "      <td>Married</td>\n",
       "      <td>Female</td>\n",
       "      <td>Clinical scientist, histocompatibility and imm...</td>\n",
       "      <td>None</td>\n",
       "      <td>Christian</td>\n",
       "      <td>51-60</td>\n",
       "    </tr>\n",
       "    <tr>\n",
       "      <th>9</th>\n",
       "      <td>3</td>\n",
       "      <td>Regentchain Avenue</td>\n",
       "      <td>Matthew</td>\n",
       "      <td>Hall</td>\n",
       "      <td>62</td>\n",
       "      <td>Husband</td>\n",
       "      <td>Married</td>\n",
       "      <td>Male</td>\n",
       "      <td>Arts development officer</td>\n",
       "      <td>None</td>\n",
       "      <td>Christian</td>\n",
       "      <td>61-70</td>\n",
       "    </tr>\n",
       "  </tbody>\n",
       "</table>\n",
       "</div>"
      ],
      "text/plain": [
       "  House Number              Street First Name Surname  Age   \n",
       "0            1  Regentchain Avenue   Ashleigh    Dale   41  \\\n",
       "1            1  Regentchain Avenue    Deborah    Dale   11   \n",
       "2            1  Regentchain Avenue       Gary    Dale    7   \n",
       "3            2  Regentchain Avenue     Edward   Grant   40   \n",
       "4            2  Regentchain Avenue  Elizabeth   Grant   35   \n",
       "5            2  Regentchain Avenue  Catherine   Grant   19   \n",
       "6            2  Regentchain Avenue      Mandy   Grant   17   \n",
       "7            2  Regentchain Avenue     Amanda   Grant   11   \n",
       "8            3  Regentchain Avenue     Hayley    Hall   60   \n",
       "9            3  Regentchain Avenue    Matthew    Hall   62   \n",
       "\n",
       "  Relationship to Head of House  Marital Status  Gender   \n",
       "0                          Head        Divorced  Female  \\\n",
       "1                      Daughter  Not applicable  Female   \n",
       "2                           Son  Not applicable    Male   \n",
       "3                          Head         Married    Male   \n",
       "4                          Wife         Married  Female   \n",
       "5                      Daughter          Single  Female   \n",
       "6                      Daughter  Not applicable  Female   \n",
       "7                      Daughter  Not applicable  Female   \n",
       "8                          Head         Married  Female   \n",
       "9                       Husband         Married    Male   \n",
       "\n",
       "                                          Occupation Infirmity   Religion   \n",
       "0                               Field trials officer      None   Catholic  \\\n",
       "1                                            Student      None  Undecided   \n",
       "2                                            Student      None  Undecided   \n",
       "3                    Environmental education officer      None  Methodist   \n",
       "4                                   Public librarian      None   Catholic   \n",
       "5                                 University Student      None       None   \n",
       "6                                            Student      None  Undecided   \n",
       "7                                            Student      None  Undecided   \n",
       "8  Clinical scientist, histocompatibility and imm...      None  Christian   \n",
       "9                           Arts development officer      None  Christian   \n",
       "\n",
       "  Age Group  \n",
       "0     41-50  \n",
       "1     11-15  \n",
       "2      5-10  \n",
       "3     31-40  \n",
       "4     31-40  \n",
       "5     16-20  \n",
       "6     16-20  \n",
       "7     11-15  \n",
       "8     51-60  \n",
       "9     61-70  "
      ]
     },
     "execution_count": 1306,
     "metadata": {},
     "output_type": "execute_result"
    }
   ],
   "source": [
    "# Creating a new column called 'Age Group' based on the age of each individual\n",
    "bins = [-1, 5, 10, 15, 20, 30, 40, 50, 60, 70, 80, 90, 100]\n",
    "labels = ['0-4', '5-10', '11-15', '16-20', '21-30', '31-40', '41-50', '51-60', '61-70', '71-80', '81-90', '91+']\n",
    "census_data['Age Group'] = pd.cut(census_data['Age'], bins=bins, labels=labels)\n",
    "census_data.head(10)"
   ]
  },
  {
   "cell_type": "code",
   "execution_count": null,
   "id": "a12dce00",
   "metadata": {},
   "outputs": [],
   "source": []
  },
  {
   "cell_type": "code",
   "execution_count": 1307,
   "id": "ba28fdc7",
   "metadata": {},
   "outputs": [
    {
     "data": {
      "image/png": "[encoded data removed]",
      "text/plain": [
       "<Figure size 576x432 with 1 Axes>"
      ]
     },
     "metadata": {},
     "output_type": "display_data"
    }
   ],
   "source": [
    "# Distribution of the age group by sex\n",
    "\n",
    "# Creating a bar chart of age group by sex\n",
    "sns.set_style('darkgrid')\n",
    "plt.figure(figsize=(8,6))\n",
    "\n",
    "sns.countplot(x='Age Group', hue='Gender', data=census_data)\n",
    "\n",
    "plt.title('Distribution of Age Group by Sex')\n",
    "plt.xlabel('Age Group')\n",
    "plt.ylabel('Count')\n",
    "\n",
    "plt.show()\n"
   ]
  },
  {
   "cell_type": "code",
   "execution_count": 1308,
   "id": "6ee487cf",
   "metadata": {},
   "outputs": [
    {
     "data": {
      "image/png": "[encoded data removed]",
      "text/plain": [
       "<Figure size 1080x1080 with 1 Axes>"
      ]
     },
     "metadata": {},
     "output_type": "display_data"
    }
   ],
   "source": [
    "# Plotting age pyramid of age group\n",
    "\n",
    "# Calculate age frequencies for males and females\n",
    "male_age_counts = census_data.loc[census_data['Gender'] == 'Male', 'Age Group'].value_counts().sort_index()\n",
    "female_age_counts = census_data.loc[census_data['Gender'] == 'Female', 'Age Group'].value_counts().sort_index()\n",
    "\n",
    "# Creating the age pyramid plot size\n",
    "fig, ax = plt.subplots(figsize=(15, 15))\n",
    "\n",
    "# limits and tick labels for x-axis\n",
    "max_age_count = max(male_age_counts.max(), female_age_counts.max())\n",
    "ax.set_xlim([-max_age_count, max_age_count])\n",
    "ax.set_xticks([-1500, -1000, -500, -250, 0, 250, 500, 1000, 1500])\n",
    "ax.set_xticklabels([1500, 1000, 500, 250, 0, 250, 500, 1000, 1500])\n",
    "\n",
    "# labels and tick marks for y-axis\n",
    "ax.set_yticks(np.arange(len(male_age_counts)))\n",
    "ax.set_yticklabels(male_age_counts.index.astype(str))\n",
    "\n",
    "# Plotting male and female age distributions\n",
    "ax.barh(male_age_counts.index, -male_age_counts.values, height=0.8, color='blue')\n",
    "ax.barh(female_age_counts.index, female_age_counts.values, height=0.8, color='red')\n",
    "\n",
    "# Add labels and title\n",
    "ax.set_xlabel('Count')\n",
    "ax.set_ylabel('Age')\n",
    "ax.set_title('Age Pyramid')\n",
    "\n",
    "plt.show()\n"
   ]
  },
  {
   "cell_type": "markdown",
   "id": "27974834",
   "metadata": {},
   "source": [
    "### 4b. Calculating death rate and Birth rate\n",
    "\n",
    "From the age pyramid it was observe that there was shrinkage moving upwards from '61-70'. life expentancy in the uk is average 80 years (https://ukhsa.blog.gov.uk/2021/03/31/life-expectancy-in-england-in-2020/). so I will assume the shrinkage is caused by death.  Also from the average age of retirement of 77 which I calculated its safe to start getting difference in Age Group band and assuming these are as a result of death since these group of individuals are almost 100% settling in the town.\n",
    "\n",
    "For the birth rate The birth rate is a measure of the number of births per 1,000 individuals in a given population within a specified time period. So I will take the birth rate of the last three ages (i.e age 0 to age 2) and assume the total population at any give time is current total population minus the total number of individuals in the prior smaller age. Here I am assuming other source or population increase or decrease are same "
   ]
  },
  {
   "cell_type": "code",
   "execution_count": null,
   "id": "b3d91a75",
   "metadata": {},
   "outputs": [],
   "source": []
  },
  {
   "cell_type": "code",
   "execution_count": 1309,
   "id": "14236a96",
   "metadata": {},
   "outputs": [
    {
     "name": "stdout",
     "output_type": "stream",
     "text": [
      " Death rate per 1000\n",
      "Age Group\n",
      "61-70    0.620\n",
      "71-80   -0.225\n",
      "81-90   -0.215\n",
      "91+     -0.154\n",
      "dtype: float64\n",
      " Death rate \n",
      " Age Group\n",
      "61-70    620.0\n",
      "71-80   -225.0\n",
      "81-90   -215.0\n",
      "91+     -154.0\n",
      "dtype: float64\n"
     ]
    }
   ],
   "source": [
    "''' Calculating the Death rate per 1000'''\n",
    "\n",
    "# Select age groups from '61-70' to '91+'\n",
    "age_groups_dr = census_data[census_data['Age Group'].isin(['61-70', '71-80', '81-90', '91+'])]\n",
    "\n",
    "# Group by age group and count the number of rows\n",
    "age_counts_dr = age_groups_dr.groupby('Age Group').size()\n",
    "\n",
    "# Calculate the difference in row number between each consecutive age group\n",
    "age_diff_dr = age_counts_dr.diff().iloc[1:]\n",
    "\n",
    "# Divide the difference by 1000\n",
    "age_diff_1000 = age_diff_dr / 1000\n",
    "\n",
    "print(f' Death rate per 1000\\n{age_diff_1000.tail(4)}')\n",
    "\n",
    "print(f' Death rate \\n {age_diff_dr.tail(4)}')\n"
   ]
  },
  {
   "cell_type": "code",
   "execution_count": 1310,
   "id": "1b1a9e8a",
   "metadata": {},
   "outputs": [
    {
     "name": "stdout",
     "output_type": "stream",
     "text": [
      " Death rate per 1000 is 198.00\n"
     ]
    }
   ],
   "source": [
    "# Calculating final death rate per 1000 as average of the last three\n",
    "death_rate_per_1000 = age_diff_dr.tail(3).mean()\n",
    "print(f' Death rate per 1000 is {death_rate_per_1000 * -1:.2f}')"
   ]
  },
  {
   "cell_type": "code",
   "execution_count": 1311,
   "id": "73b1209d",
   "metadata": {},
   "outputs": [
    {
     "name": "stdout",
     "output_type": "stream",
     "text": [
      "Birth rate two years ago is 11.95 per 1000 people.\n",
      "Birth rate for one year ago is 10.14 per 1000 people.\n",
      "Birth rate for current year is 10.62 per 1000 people.\n"
     ]
    }
   ],
   "source": [
    "''' Calculating birth rates'''\n",
    "\n",
    "# Calculate total number of people with age 2\n",
    "age_2_count = len(census_data[census_data['Age'] == 2])\n",
    "\n",
    "# Calculate total number of rows with age 0 or 1\n",
    "age_0_1_count = len(census_data[census_data['Age'].isin([0, 1])])\n",
    "\n",
    "# Calculate total number of rows in the dataframe\n",
    "total_count = len(census_data)\n",
    "\n",
    "# Calculate difference between total_count and age_0_1_count\n",
    "diff_2 = total_count - age_0_1_count\n",
    "\n",
    "# Calculate birth rate\n",
    "birth_rate_2years_ago = (age_2_count / diff_2) * 1000\n",
    "\n",
    "\n",
    "\n",
    "# Calculate total number of people with age 1\n",
    "age_1_count = len(census_data[census_data['Age'] == 1])\n",
    "\n",
    "# Calculate total number of rows with age 0\n",
    "age_0_count = len(census_data[census_data['Age'].isin([0])])\n",
    "\n",
    "# Calculate difference between total_count and age_0_count\n",
    "diff_1 = total_count - age_0_count\n",
    "\n",
    "# Calculate birth rate\n",
    "birth_rate_1year_ago = (age_1_count / diff_1) * 1000\n",
    "\n",
    "# Calculate total number of people with age 0\n",
    "age_0_count = len(census_data[census_data['Age'] == 0])\n",
    "\n",
    "# Calculate birth rate\n",
    "birth_rate_current = (age_0_count / total_count) * 1000\n",
    "\n",
    "# Print birth rate\n",
    "print(f\"Birth rate two years ago is {birth_rate_2years_ago:.2f} per 1000 people.\")\n",
    "print(f\"Birth rate for one year ago is {birth_rate_1year_ago:.2f} per 1000 people.\")\n",
    "print(f\"Birth rate for current year is {birth_rate_current:.2f} per 1000 people.\")\n"
   ]
  },
  {
   "cell_type": "markdown",
   "id": "1b9d5588",
   "metadata": {},
   "source": [
    "### 4c. Examining the number of University Student, Retirement age and Minimum Age for School"
   ]
  },
  {
   "cell_type": "code",
   "execution_count": 1312,
   "id": "904d3e39",
   "metadata": {},
   "outputs": [
    {
     "name": "stdout",
     "output_type": "stream",
     "text": [
      "Number of University student is 533\n"
     ]
    }
   ],
   "source": [
    "''' Getting the number of university students in the population'''\n",
    "\n",
    "num_university_student = len(census_data[census_data['Occupation'] == 'University Student'])\n",
    "\n",
    "print(f'Number of University student is {num_university_student}')"
   ]
  },
  {
   "cell_type": "code",
   "execution_count": null,
   "id": "50936704",
   "metadata": {},
   "outputs": [],
   "source": []
  },
  {
   "cell_type": "code",
   "execution_count": 1313,
   "id": "191c26e7",
   "metadata": {},
   "outputs": [],
   "source": [
    "''' Creating a new column Employment Status so as to get a distinct value for retired and employed'''\n",
    "\n",
    "# Convert \"Occupation\" column to lowercase for case-insensitive matching\n",
    "census_data['Occupation'] = census_data['Occupation'].str.lower()\n",
    "\n",
    "# Create \"Employment Status\" column based on \"Occupation\" values\n",
    "census_data['Employment Status'] = 'Employed'  # default value\n",
    "\n",
    "census_data.loc[census_data['Occupation'].str.contains('student'), 'Employment Status'] = 'Student'\n",
    "\n",
    "census_data.loc[census_data['Occupation'].str.contains('retired'), 'Employment Status'] = 'Retired'\n",
    "\n",
    "census_data.loc[census_data['Occupation'] == 'unemployed', 'Employment Status'] = 'Unemployed'\n",
    "\n",
    "census_data.loc[census_data['Occupation'] == 'university student', 'Employment Status'] = 'University Student'\n",
    "\n",
    "census_data.loc[census_data['Occupation'] == 'child', 'Employment Status'] = 'Child'\n",
    "\n",
    "census_data['Occupation'] = census_data['Occupation'].str.title()"
   ]
  },
  {
   "cell_type": "code",
   "execution_count": 1314,
   "id": "198b30a7",
   "metadata": {},
   "outputs": [
    {
     "data": {
      "text/plain": [
       "array(['Employed', 'Student', 'University Student', 'Unemployed', 'Child',\n",
       "       'Retired'], dtype=object)"
      ]
     },
     "execution_count": 1314,
     "metadata": {},
     "output_type": "execute_result"
    }
   ],
   "source": [
    "census_data['Employment Status'].unique()"
   ]
  },
  {
   "cell_type": "code",
   "execution_count": 1315,
   "id": "a1f7dba3",
   "metadata": {},
   "outputs": [
    {
     "data": {
      "text/html": [
       "<div>\n",
       "<style scoped>\n",
       "    .dataframe tbody tr th:only-of-type {\n",
       "        vertical-align: middle;\n",
       "    }\n",
       "\n",
       "    .dataframe tbody tr th {\n",
       "        vertical-align: top;\n",
       "    }\n",
       "\n",
       "    .dataframe thead th {\n",
       "        text-align: right;\n",
       "    }\n",
       "</style>\n",
       "<table border=\"1\" class=\"dataframe\">\n",
       "  <thead>\n",
       "    <tr style=\"text-align: right;\">\n",
       "      <th></th>\n",
       "      <th>House Number</th>\n",
       "      <th>Street</th>\n",
       "      <th>First Name</th>\n",
       "      <th>Surname</th>\n",
       "      <th>Age</th>\n",
       "      <th>Relationship to Head of House</th>\n",
       "      <th>Marital Status</th>\n",
       "      <th>Gender</th>\n",
       "      <th>Occupation</th>\n",
       "      <th>Infirmity</th>\n",
       "      <th>Religion</th>\n",
       "      <th>Age Group</th>\n",
       "      <th>Employment Status</th>\n",
       "    </tr>\n",
       "  </thead>\n",
       "  <tbody>\n",
       "    <tr>\n",
       "      <th>0</th>\n",
       "      <td>1</td>\n",
       "      <td>Regentchain Avenue</td>\n",
       "      <td>Ashleigh</td>\n",
       "      <td>Dale</td>\n",
       "      <td>41</td>\n",
       "      <td>Head</td>\n",
       "      <td>Divorced</td>\n",
       "      <td>Female</td>\n",
       "      <td>Field Trials Officer</td>\n",
       "      <td>None</td>\n",
       "      <td>Catholic</td>\n",
       "      <td>41-50</td>\n",
       "      <td>Employed</td>\n",
       "    </tr>\n",
       "    <tr>\n",
       "      <th>1</th>\n",
       "      <td>1</td>\n",
       "      <td>Regentchain Avenue</td>\n",
       "      <td>Deborah</td>\n",
       "      <td>Dale</td>\n",
       "      <td>11</td>\n",
       "      <td>Daughter</td>\n",
       "      <td>Not applicable</td>\n",
       "      <td>Female</td>\n",
       "      <td>Student</td>\n",
       "      <td>None</td>\n",
       "      <td>Undecided</td>\n",
       "      <td>11-15</td>\n",
       "      <td>Student</td>\n",
       "    </tr>\n",
       "    <tr>\n",
       "      <th>2</th>\n",
       "      <td>1</td>\n",
       "      <td>Regentchain Avenue</td>\n",
       "      <td>Gary</td>\n",
       "      <td>Dale</td>\n",
       "      <td>7</td>\n",
       "      <td>Son</td>\n",
       "      <td>Not applicable</td>\n",
       "      <td>Male</td>\n",
       "      <td>Student</td>\n",
       "      <td>None</td>\n",
       "      <td>Undecided</td>\n",
       "      <td>5-10</td>\n",
       "      <td>Student</td>\n",
       "    </tr>\n",
       "    <tr>\n",
       "      <th>3</th>\n",
       "      <td>2</td>\n",
       "      <td>Regentchain Avenue</td>\n",
       "      <td>Edward</td>\n",
       "      <td>Grant</td>\n",
       "      <td>40</td>\n",
       "      <td>Head</td>\n",
       "      <td>Married</td>\n",
       "      <td>Male</td>\n",
       "      <td>Environmental Education Officer</td>\n",
       "      <td>None</td>\n",
       "      <td>Methodist</td>\n",
       "      <td>31-40</td>\n",
       "      <td>Employed</td>\n",
       "    </tr>\n",
       "    <tr>\n",
       "      <th>4</th>\n",
       "      <td>2</td>\n",
       "      <td>Regentchain Avenue</td>\n",
       "      <td>Elizabeth</td>\n",
       "      <td>Grant</td>\n",
       "      <td>35</td>\n",
       "      <td>Wife</td>\n",
       "      <td>Married</td>\n",
       "      <td>Female</td>\n",
       "      <td>Public Librarian</td>\n",
       "      <td>None</td>\n",
       "      <td>Catholic</td>\n",
       "      <td>31-40</td>\n",
       "      <td>Employed</td>\n",
       "    </tr>\n",
       "    <tr>\n",
       "      <th>5</th>\n",
       "      <td>2</td>\n",
       "      <td>Regentchain Avenue</td>\n",
       "      <td>Catherine</td>\n",
       "      <td>Grant</td>\n",
       "      <td>19</td>\n",
       "      <td>Daughter</td>\n",
       "      <td>Single</td>\n",
       "      <td>Female</td>\n",
       "      <td>University Student</td>\n",
       "      <td>None</td>\n",
       "      <td>None</td>\n",
       "      <td>16-20</td>\n",
       "      <td>University Student</td>\n",
       "    </tr>\n",
       "    <tr>\n",
       "      <th>6</th>\n",
       "      <td>2</td>\n",
       "      <td>Regentchain Avenue</td>\n",
       "      <td>Mandy</td>\n",
       "      <td>Grant</td>\n",
       "      <td>17</td>\n",
       "      <td>Daughter</td>\n",
       "      <td>Not applicable</td>\n",
       "      <td>Female</td>\n",
       "      <td>Student</td>\n",
       "      <td>None</td>\n",
       "      <td>Undecided</td>\n",
       "      <td>16-20</td>\n",
       "      <td>Student</td>\n",
       "    </tr>\n",
       "    <tr>\n",
       "      <th>7</th>\n",
       "      <td>2</td>\n",
       "      <td>Regentchain Avenue</td>\n",
       "      <td>Amanda</td>\n",
       "      <td>Grant</td>\n",
       "      <td>11</td>\n",
       "      <td>Daughter</td>\n",
       "      <td>Not applicable</td>\n",
       "      <td>Female</td>\n",
       "      <td>Student</td>\n",
       "      <td>None</td>\n",
       "      <td>Undecided</td>\n",
       "      <td>11-15</td>\n",
       "      <td>Student</td>\n",
       "    </tr>\n",
       "    <tr>\n",
       "      <th>8</th>\n",
       "      <td>3</td>\n",
       "      <td>Regentchain Avenue</td>\n",
       "      <td>Hayley</td>\n",
       "      <td>Hall</td>\n",
       "      <td>60</td>\n",
       "      <td>Head</td>\n",
       "      <td>Married</td>\n",
       "      <td>Female</td>\n",
       "      <td>Clinical Scientist, Histocompatibility And Imm...</td>\n",
       "      <td>None</td>\n",
       "      <td>Christian</td>\n",
       "      <td>51-60</td>\n",
       "      <td>Employed</td>\n",
       "    </tr>\n",
       "    <tr>\n",
       "      <th>9</th>\n",
       "      <td>3</td>\n",
       "      <td>Regentchain Avenue</td>\n",
       "      <td>Matthew</td>\n",
       "      <td>Hall</td>\n",
       "      <td>62</td>\n",
       "      <td>Husband</td>\n",
       "      <td>Married</td>\n",
       "      <td>Male</td>\n",
       "      <td>Arts Development Officer</td>\n",
       "      <td>None</td>\n",
       "      <td>Christian</td>\n",
       "      <td>61-70</td>\n",
       "      <td>Employed</td>\n",
       "    </tr>\n",
       "  </tbody>\n",
       "</table>\n",
       "</div>"
      ],
      "text/plain": [
       "  House Number              Street First Name Surname  Age   \n",
       "0            1  Regentchain Avenue   Ashleigh    Dale   41  \\\n",
       "1            1  Regentchain Avenue    Deborah    Dale   11   \n",
       "2            1  Regentchain Avenue       Gary    Dale    7   \n",
       "3            2  Regentchain Avenue     Edward   Grant   40   \n",
       "4            2  Regentchain Avenue  Elizabeth   Grant   35   \n",
       "5            2  Regentchain Avenue  Catherine   Grant   19   \n",
       "6            2  Regentchain Avenue      Mandy   Grant   17   \n",
       "7            2  Regentchain Avenue     Amanda   Grant   11   \n",
       "8            3  Regentchain Avenue     Hayley    Hall   60   \n",
       "9            3  Regentchain Avenue    Matthew    Hall   62   \n",
       "\n",
       "  Relationship to Head of House  Marital Status  Gender   \n",
       "0                          Head        Divorced  Female  \\\n",
       "1                      Daughter  Not applicable  Female   \n",
       "2                           Son  Not applicable    Male   \n",
       "3                          Head         Married    Male   \n",
       "4                          Wife         Married  Female   \n",
       "5                      Daughter          Single  Female   \n",
       "6                      Daughter  Not applicable  Female   \n",
       "7                      Daughter  Not applicable  Female   \n",
       "8                          Head         Married  Female   \n",
       "9                       Husband         Married    Male   \n",
       "\n",
       "                                          Occupation Infirmity   Religion   \n",
       "0                               Field Trials Officer      None   Catholic  \\\n",
       "1                                            Student      None  Undecided   \n",
       "2                                            Student      None  Undecided   \n",
       "3                    Environmental Education Officer      None  Methodist   \n",
       "4                                   Public Librarian      None   Catholic   \n",
       "5                                 University Student      None       None   \n",
       "6                                            Student      None  Undecided   \n",
       "7                                            Student      None  Undecided   \n",
       "8  Clinical Scientist, Histocompatibility And Imm...      None  Christian   \n",
       "9                           Arts Development Officer      None  Christian   \n",
       "\n",
       "  Age Group   Employment Status  \n",
       "0     41-50            Employed  \n",
       "1     11-15             Student  \n",
       "2      5-10             Student  \n",
       "3     31-40            Employed  \n",
       "4     31-40            Employed  \n",
       "5     16-20  University Student  \n",
       "6     16-20             Student  \n",
       "7     11-15             Student  \n",
       "8     51-60            Employed  \n",
       "9     61-70            Employed  "
      ]
     },
     "execution_count": 1315,
     "metadata": {},
     "output_type": "execute_result"
    }
   ],
   "source": [
    "census_data.head(10)"
   ]
  },
  {
   "cell_type": "code",
   "execution_count": 1316,
   "id": "a53d858a",
   "metadata": {},
   "outputs": [
    {
     "name": "stdout",
     "output_type": "stream",
     "text": [
      "Average Age of Retirement is: 77\n"
     ]
    }
   ],
   "source": [
    "''' Getting avegage age of retirement'''\n",
    "mean_age_retired = census_data.loc[census_data['Employment Status'] == 'Retired', 'Age'].mean()\n",
    "\n",
    "print(f'Average Age of Retirement is: {round(mean_age_retired)}')\n"
   ]
  },
  {
   "cell_type": "code",
   "execution_count": 1317,
   "id": "515bd962",
   "metadata": {},
   "outputs": [
    {
     "name": "stdout",
     "output_type": "stream",
     "text": [
      "Minimum Age for school is: 5\n"
     ]
    }
   ],
   "source": [
    "''' Getting minimum age for children to start school'''\n",
    "min_age_student = census_data.loc[census_data['Employment Status'] == 'Student', 'Age'].min()\n",
    "\n",
    "print(f'Minimum Age for school is: {round(min_age_student)}')"
   ]
  },
  {
   "cell_type": "code",
   "execution_count": 1318,
   "id": "fbc63f9b",
   "metadata": {},
   "outputs": [
    {
     "name": "stdout",
     "output_type": "stream",
     "text": [
      "Number of University student is 533\n",
      "Average Age of Retirement is: 77\n",
      "Minimum Age for school is: 5\n"
     ]
    }
   ],
   "source": [
    "print(f'Number of University student is {num_university_student}')\n",
    "\n",
    "print(f'Average Age of Retirement is: {round(mean_age_retired)}')\n",
    "\n",
    "print(f'Minimum Age for school is: {round(min_age_student)}')"
   ]
  },
  {
   "cell_type": "markdown",
   "id": "d6cfe700",
   "metadata": {},
   "source": [
    "### 4d. Examining Unemployment trend"
   ]
  },
  {
   "cell_type": "code",
   "execution_count": 1319,
   "id": "771ff620",
   "metadata": {},
   "outputs": [
    {
     "data": {
      "text/plain": [
       "<AxesSubplot:xlabel='Employment Status', ylabel='Age Group'>"
      ]
     },
     "execution_count": 1319,
     "metadata": {},
     "output_type": "execute_result"
    },
    {
     "data": {
      "image/png": "[encoded data removed]",
      "text/plain": [
       "<Figure size 432x288 with 1 Axes>"
      ]
     },
     "metadata": {},
     "output_type": "display_data"
    }
   ],
   "source": [
    "import pandas as pd\n",
    "import seaborn as sns\n",
    "\n",
    "# Create a pivot table with age as rows and employment status as columns\n",
    "pivot_table = pd.pivot_table(census_data, index='Age Group', columns='Employment Status', values='Age', aggfunc='count')\n",
    "\n",
    "# Create a heatmap visualization of the pivot table\n",
    "sns.heatmap(pivot_table, cmap='Blues', annot=True, fmt='g', cbar=False)\n"
   ]
  },
  {
   "cell_type": "code",
   "execution_count": 1320,
   "id": "d2040350",
   "metadata": {},
   "outputs": [
    {
     "data": {
      "text/plain": [
       "Text(0, 0.5, 'Count')"
      ]
     },
     "execution_count": 1320,
     "metadata": {},
     "output_type": "execute_result"
    },
    {
     "data": {
      "image/png": "[encoded data removed]",
      "text/plain": [
       "<Figure size 720x432 with 1 Axes>"
      ]
     },
     "metadata": {},
     "output_type": "display_data"
    }
   ],
   "source": [
    "\n",
    "# Group the data by age group and employment status and count the number of occurrences\n",
    "grouped_data = census_data.groupby(['Age Group', 'Employment Status'])['Age'].count().reset_index()\n",
    "\n",
    "# Pivot the data to make employment status the columns\n",
    "pivoted_data = grouped_data.pivot(index='Age Group', columns='Employment Status', values='Age')\n",
    "\n",
    "# Create a stacked bar chart of the data\n",
    "ax = pivoted_data.plot(kind='bar', stacked=True, figsize=(10,6))\n",
    "\n",
    "# Set the title and axis labels\n",
    "ax.set_title('Employment Status by Age Group')\n",
    "ax.set_xlabel('Age Group')\n",
    "ax.set_ylabel('Count')\n"
   ]
  },
  {
   "cell_type": "markdown",
   "id": "53bc02dc",
   "metadata": {},
   "source": [
    "When calculating the unemployment rate minimum age to start gain employment is 16 years. \n",
    "https://www.ons.gov.uk/employmentandlabourmarket/peopleinwork/employmentandemployeetypes/methodologies/aguidetolabourmarketstatistics\n"
   ]
  },
  {
   "cell_type": "code",
   "execution_count": 1321,
   "id": "3c27355f",
   "metadata": {},
   "outputs": [
    {
     "name": "stdout",
     "output_type": "stream",
     "text": [
      "The Unemployment rate for the town is: 7.98%\n"
     ]
    }
   ],
   "source": [
    "# Create a copy of the original dataframe with individuals aged 15 and below removed\n",
    "# https://www.ons.gov.uk/employmentandlabourmarket/peopleinwork/employmentandemployeetypes/methodologies/aguidetolabourmarketstatistics\n",
    "workforce_population = census_data[census_data['Age'] >= 16].copy()\n",
    "\n",
    "# Group by employment status\n",
    "count_of_employment_status = workforce_population.groupby('Employment Status').size()\n",
    "\n",
    "# Calculate the total number of individuals\n",
    "total_individuals = count_of_employment_status.sum()\n",
    "\n",
    "# Calculate the unemployment rate\n",
    "unemployment_rate = (count_of_employment_status.loc['Unemployed'] / total_individuals) * 100\n",
    "\n",
    "# Print the unemployment rate\n",
    "print(f\"The Unemployment rate for the town is: {unemployment_rate.round(2)}%\")"
   ]
  },
  {
   "cell_type": "markdown",
   "id": "54152a13",
   "metadata": {},
   "source": [
    "#### Unemployment rate by Age group"
   ]
  },
  {
   "cell_type": "code",
   "execution_count": 1322,
   "id": "50962f92",
   "metadata": {},
   "outputs": [
    {
     "name": "stdout",
     "output_type": "stream",
     "text": [
      "Unemployment rate for each age group is Age Group\n",
      "16-20     0.63\n",
      "21-30     6.50\n",
      "31-40    10.59\n",
      "41-50    11.39\n",
      "51-60     8.50\n",
      "61-70     8.55\n",
      "71-80     2.78\n",
      "81-90     6.67\n",
      "91+        NaN\n",
      "dtype: float64%\n"
     ]
    }
   ],
   "source": [
    "# Create a copy of the original dataframe without rows with age less than 16 age group\n",
    "workforce_age_group = census_data[census_data['Age Group'].isin(['16-20', '21-30', '31-40', '41-50', '51-60', '61-70', '71-80', '81-90'])].copy()\n",
    "\n",
    "# Group by age group and employment status\n",
    "employment_status_ageGroup = workforce_age_group.groupby(['Age Group', 'Employment Status']).count()['Age'].unstack()\n",
    "\n",
    "# Calculate the total number of individuals in each age group\n",
    "age_group_totals = workforce_age_group.groupby('Age Group').count()['Age']\n",
    "\n",
    "# Calculate the unemployment rate for each age group\n",
    "unemployment_rates = employment_status_ageGroup['Unemployed'] / age_group_totals\n",
    "\n",
    "# Print the unemployment rates for each age group\n",
    "print(f\"Unemployment rate for each age group is {((unemployment_rates.tail(9))*100).round(2)}%\")\n"
   ]
  },
  {
   "cell_type": "code",
   "execution_count": null,
   "id": "3e39bc7b",
   "metadata": {},
   "outputs": [],
   "source": []
  },
  {
   "cell_type": "markdown",
   "id": "387ba680",
   "metadata": {},
   "source": [
    "### 4e. Examining Religion trend"
   ]
  },
  {
   "cell_type": "code",
   "execution_count": 1323,
   "id": "aa387d93",
   "metadata": {},
   "outputs": [
    {
     "data": {
      "image/png": "[encoded data removed]",
      "text/plain": [
       "<Figure size 1080x864 with 1 Axes>"
      ]
     },
     "metadata": {},
     "output_type": "display_data"
    }
   ],
   "source": [
    "''' Using bar chart to visualise religion'''\n",
    "\n",
    "sns.set_style('whitegrid')\n",
    "\n",
    "plt.figure(figsize=(15, 12))\n",
    "sns.countplot(data=census_data, y='Religion')\n",
    "plt.title('Religion Distribution')\n",
    "plt.xlabel('Count')\n",
    "plt.ylabel('Religion')\n",
    "plt.show()\n"
   ]
  },
  {
   "cell_type": "code",
   "execution_count": 1324,
   "id": "da0c669d",
   "metadata": {},
   "outputs": [
    {
     "data": {
      "image/png": "[encoded data removed]",
      "text/plain": [
       "<Figure size 1440x1080 with 1 Axes>"
      ]
     },
     "metadata": {},
     "output_type": "display_data"
    }
   ],
   "source": [
    "''' Using a bar chart to see which religion is common among certain age group'''\n",
    "\n",
    "# setting grid and figsize\n",
    "sns.set_style('whitegrid')\n",
    "plt.figure(figsize=(20, 15))\n",
    "\n",
    "\n",
    "sns.countplot(x='Age Group', hue='Religion', data=census_data)\n",
    "\n",
    "# Set titles\n",
    "plt.title('Religion by Age Group')\n",
    "plt.xlabel('Age Group')\n",
    "plt.ylabel('Count')\n",
    "\n",
    "plt.show()"
   ]
  },
  {
   "cell_type": "markdown",
   "id": "b3e2dc65",
   "metadata": {},
   "source": [
    "##### Computing the statistics of age grouped by religion\n",
    "\n"
   ]
  },
  {
   "cell_type": "code",
   "execution_count": 1325,
   "id": "a5adaee6",
   "metadata": {},
   "outputs": [
    {
     "data": {
      "text/html": [
       "<div>\n",
       "<style scoped>\n",
       "    .dataframe tbody tr th:only-of-type {\n",
       "        vertical-align: middle;\n",
       "    }\n",
       "\n",
       "    .dataframe tbody tr th {\n",
       "        vertical-align: top;\n",
       "    }\n",
       "\n",
       "    .dataframe thead th {\n",
       "        text-align: right;\n",
       "    }\n",
       "</style>\n",
       "<table border=\"1\" class=\"dataframe\">\n",
       "  <thead>\n",
       "    <tr style=\"text-align: right;\">\n",
       "      <th></th>\n",
       "      <th>count</th>\n",
       "      <th>mean</th>\n",
       "      <th>std</th>\n",
       "      <th>min</th>\n",
       "      <th>25%</th>\n",
       "      <th>50%</th>\n",
       "      <th>75%</th>\n",
       "      <th>max</th>\n",
       "    </tr>\n",
       "    <tr>\n",
       "      <th>Religion</th>\n",
       "      <th></th>\n",
       "      <th></th>\n",
       "      <th></th>\n",
       "      <th></th>\n",
       "      <th></th>\n",
       "      <th></th>\n",
       "      <th></th>\n",
       "      <th></th>\n",
       "    </tr>\n",
       "  </thead>\n",
       "  <tbody>\n",
       "    <tr>\n",
       "      <th>Buddist</th>\n",
       "      <td>3.0</td>\n",
       "      <td>29.666667</td>\n",
       "      <td>18.475209</td>\n",
       "      <td>19.0</td>\n",
       "      <td>19.00</td>\n",
       "      <td>19.0</td>\n",
       "      <td>35.0</td>\n",
       "      <td>51.0</td>\n",
       "    </tr>\n",
       "    <tr>\n",
       "      <th>Catholic</th>\n",
       "      <td>885.0</td>\n",
       "      <td>44.114124</td>\n",
       "      <td>16.228483</td>\n",
       "      <td>18.0</td>\n",
       "      <td>34.00</td>\n",
       "      <td>42.0</td>\n",
       "      <td>51.0</td>\n",
       "      <td>102.0</td>\n",
       "    </tr>\n",
       "    <tr>\n",
       "      <th>Christian</th>\n",
       "      <td>1956.0</td>\n",
       "      <td>49.942229</td>\n",
       "      <td>18.229041</td>\n",
       "      <td>18.0</td>\n",
       "      <td>36.00</td>\n",
       "      <td>51.0</td>\n",
       "      <td>62.0</td>\n",
       "      <td>116.0</td>\n",
       "    </tr>\n",
       "    <tr>\n",
       "      <th>Jewish</th>\n",
       "      <td>36.0</td>\n",
       "      <td>39.611111</td>\n",
       "      <td>14.959522</td>\n",
       "      <td>19.0</td>\n",
       "      <td>27.00</td>\n",
       "      <td>36.5</td>\n",
       "      <td>48.0</td>\n",
       "      <td>70.0</td>\n",
       "    </tr>\n",
       "    <tr>\n",
       "      <th>Methodist</th>\n",
       "      <td>499.0</td>\n",
       "      <td>45.665331</td>\n",
       "      <td>17.869738</td>\n",
       "      <td>18.0</td>\n",
       "      <td>32.00</td>\n",
       "      <td>43.0</td>\n",
       "      <td>57.0</td>\n",
       "      <td>100.0</td>\n",
       "    </tr>\n",
       "    <tr>\n",
       "      <th>Muslim</th>\n",
       "      <td>97.0</td>\n",
       "      <td>34.556701</td>\n",
       "      <td>14.879354</td>\n",
       "      <td>18.0</td>\n",
       "      <td>24.00</td>\n",
       "      <td>29.0</td>\n",
       "      <td>42.0</td>\n",
       "      <td>94.0</td>\n",
       "    </tr>\n",
       "    <tr>\n",
       "      <th>None</th>\n",
       "      <td>2878.0</td>\n",
       "      <td>41.851286</td>\n",
       "      <td>16.789361</td>\n",
       "      <td>18.0</td>\n",
       "      <td>28.00</td>\n",
       "      <td>40.0</td>\n",
       "      <td>52.0</td>\n",
       "      <td>107.0</td>\n",
       "    </tr>\n",
       "    <tr>\n",
       "      <th>Orthodoxy</th>\n",
       "      <td>1.0</td>\n",
       "      <td>45.000000</td>\n",
       "      <td>NaN</td>\n",
       "      <td>45.0</td>\n",
       "      <td>45.00</td>\n",
       "      <td>45.0</td>\n",
       "      <td>45.0</td>\n",
       "      <td>45.0</td>\n",
       "    </tr>\n",
       "    <tr>\n",
       "      <th>Pagan</th>\n",
       "      <td>1.0</td>\n",
       "      <td>102.000000</td>\n",
       "      <td>NaN</td>\n",
       "      <td>102.0</td>\n",
       "      <td>102.00</td>\n",
       "      <td>102.0</td>\n",
       "      <td>102.0</td>\n",
       "      <td>102.0</td>\n",
       "    </tr>\n",
       "    <tr>\n",
       "      <th>Private</th>\n",
       "      <td>1.0</td>\n",
       "      <td>19.000000</td>\n",
       "      <td>NaN</td>\n",
       "      <td>19.0</td>\n",
       "      <td>19.00</td>\n",
       "      <td>19.0</td>\n",
       "      <td>19.0</td>\n",
       "      <td>19.0</td>\n",
       "    </tr>\n",
       "    <tr>\n",
       "      <th>Quaker</th>\n",
       "      <td>1.0</td>\n",
       "      <td>57.000000</td>\n",
       "      <td>NaN</td>\n",
       "      <td>57.0</td>\n",
       "      <td>57.00</td>\n",
       "      <td>57.0</td>\n",
       "      <td>57.0</td>\n",
       "      <td>57.0</td>\n",
       "    </tr>\n",
       "    <tr>\n",
       "      <th>Sikh</th>\n",
       "      <td>40.0</td>\n",
       "      <td>32.225000</td>\n",
       "      <td>13.809115</td>\n",
       "      <td>18.0</td>\n",
       "      <td>25.75</td>\n",
       "      <td>29.0</td>\n",
       "      <td>33.0</td>\n",
       "      <td>73.0</td>\n",
       "    </tr>\n",
       "    <tr>\n",
       "      <th>Undecided</th>\n",
       "      <td>1979.0</td>\n",
       "      <td>8.989389</td>\n",
       "      <td>5.075207</td>\n",
       "      <td>0.0</td>\n",
       "      <td>5.00</td>\n",
       "      <td>9.0</td>\n",
       "      <td>13.0</td>\n",
       "      <td>17.0</td>\n",
       "    </tr>\n",
       "  </tbody>\n",
       "</table>\n",
       "</div>"
      ],
      "text/plain": [
       "            count        mean        std    min     25%    50%    75%    max\n",
       "Religion                                                                    \n",
       "Buddist       3.0   29.666667  18.475209   19.0   19.00   19.0   35.0   51.0\n",
       "Catholic    885.0   44.114124  16.228483   18.0   34.00   42.0   51.0  102.0\n",
       "Christian  1956.0   49.942229  18.229041   18.0   36.00   51.0   62.0  116.0\n",
       "Jewish       36.0   39.611111  14.959522   19.0   27.00   36.5   48.0   70.0\n",
       "Methodist   499.0   45.665331  17.869738   18.0   32.00   43.0   57.0  100.0\n",
       "Muslim       97.0   34.556701  14.879354   18.0   24.00   29.0   42.0   94.0\n",
       "None       2878.0   41.851286  16.789361   18.0   28.00   40.0   52.0  107.0\n",
       "Orthodoxy     1.0   45.000000        NaN   45.0   45.00   45.0   45.0   45.0\n",
       "Pagan         1.0  102.000000        NaN  102.0  102.00  102.0  102.0  102.0\n",
       "Private       1.0   19.000000        NaN   19.0   19.00   19.0   19.0   19.0\n",
       "Quaker        1.0   57.000000        NaN   57.0   57.00   57.0   57.0   57.0\n",
       "Sikh         40.0   32.225000  13.809115   18.0   25.75   29.0   33.0   73.0\n",
       "Undecided  1979.0    8.989389   5.075207    0.0    5.00    9.0   13.0   17.0"
      ]
     },
     "execution_count": 1325,
     "metadata": {},
     "output_type": "execute_result"
    }
   ],
   "source": [
    "# Using decribe method to get the \n",
    "census_data['Age'].groupby(census_data['Religion']).describe()"
   ]
  },
  {
   "cell_type": "code",
   "execution_count": 1326,
   "id": "dace055f",
   "metadata": {},
   "outputs": [
    {
     "data": {
      "text/html": [
       "<div>\n",
       "<style scoped>\n",
       "    .dataframe tbody tr th:only-of-type {\n",
       "        vertical-align: middle;\n",
       "    }\n",
       "\n",
       "    .dataframe tbody tr th {\n",
       "        vertical-align: top;\n",
       "    }\n",
       "\n",
       "    .dataframe thead th {\n",
       "        text-align: right;\n",
       "    }\n",
       "</style>\n",
       "<table border=\"1\" class=\"dataframe\">\n",
       "  <thead>\n",
       "    <tr style=\"text-align: right;\">\n",
       "      <th></th>\n",
       "      <th>mean</th>\n",
       "      <th>median</th>\n",
       "      <th>mode</th>\n",
       "    </tr>\n",
       "    <tr>\n",
       "      <th>Religion</th>\n",
       "      <th></th>\n",
       "      <th></th>\n",
       "      <th></th>\n",
       "    </tr>\n",
       "  </thead>\n",
       "  <tbody>\n",
       "    <tr>\n",
       "      <th>Buddist</th>\n",
       "      <td>29.666667</td>\n",
       "      <td>19.0</td>\n",
       "      <td>19</td>\n",
       "    </tr>\n",
       "    <tr>\n",
       "      <th>Catholic</th>\n",
       "      <td>44.114124</td>\n",
       "      <td>42.0</td>\n",
       "      <td>41</td>\n",
       "    </tr>\n",
       "    <tr>\n",
       "      <th>Christian</th>\n",
       "      <td>49.942229</td>\n",
       "      <td>51.0</td>\n",
       "      <td>51</td>\n",
       "    </tr>\n",
       "    <tr>\n",
       "      <th>Jewish</th>\n",
       "      <td>39.611111</td>\n",
       "      <td>36.5</td>\n",
       "      <td>27</td>\n",
       "    </tr>\n",
       "    <tr>\n",
       "      <th>Methodist</th>\n",
       "      <td>45.665331</td>\n",
       "      <td>43.0</td>\n",
       "      <td>36</td>\n",
       "    </tr>\n",
       "    <tr>\n",
       "      <th>Muslim</th>\n",
       "      <td>34.556701</td>\n",
       "      <td>29.0</td>\n",
       "      <td>20</td>\n",
       "    </tr>\n",
       "    <tr>\n",
       "      <th>None</th>\n",
       "      <td>41.851286</td>\n",
       "      <td>40.0</td>\n",
       "      <td>19</td>\n",
       "    </tr>\n",
       "    <tr>\n",
       "      <th>Orthodoxy</th>\n",
       "      <td>45.000000</td>\n",
       "      <td>45.0</td>\n",
       "      <td>45</td>\n",
       "    </tr>\n",
       "    <tr>\n",
       "      <th>Pagan</th>\n",
       "      <td>102.000000</td>\n",
       "      <td>102.0</td>\n",
       "      <td>102</td>\n",
       "    </tr>\n",
       "    <tr>\n",
       "      <th>Private</th>\n",
       "      <td>19.000000</td>\n",
       "      <td>19.0</td>\n",
       "      <td>19</td>\n",
       "    </tr>\n",
       "    <tr>\n",
       "      <th>Quaker</th>\n",
       "      <td>57.000000</td>\n",
       "      <td>57.0</td>\n",
       "      <td>57</td>\n",
       "    </tr>\n",
       "    <tr>\n",
       "      <th>Sikh</th>\n",
       "      <td>32.225000</td>\n",
       "      <td>29.0</td>\n",
       "      <td>26</td>\n",
       "    </tr>\n",
       "    <tr>\n",
       "      <th>Undecided</th>\n",
       "      <td>8.989389</td>\n",
       "      <td>9.0</td>\n",
       "      <td>15</td>\n",
       "    </tr>\n",
       "  </tbody>\n",
       "</table>\n",
       "</div>"
      ],
      "text/plain": [
       "                 mean  median  mode\n",
       "Religion                           \n",
       "Buddist     29.666667    19.0    19\n",
       "Catholic    44.114124    42.0    41\n",
       "Christian   49.942229    51.0    51\n",
       "Jewish      39.611111    36.5    27\n",
       "Methodist   45.665331    43.0    36\n",
       "Muslim      34.556701    29.0    20\n",
       "None        41.851286    40.0    19\n",
       "Orthodoxy   45.000000    45.0    45\n",
       "Pagan      102.000000   102.0   102\n",
       "Private     19.000000    19.0    19\n",
       "Quaker      57.000000    57.0    57\n",
       "Sikh        32.225000    29.0    26\n",
       "Undecided    8.989389     9.0    15"
      ]
     },
     "execution_count": 1326,
     "metadata": {},
     "output_type": "execute_result"
    }
   ],
   "source": [
    "# Computing statistical mode of the data\n",
    "'''reference: https://statisticsglobe.com/calculate-mode-group-python'''\n",
    "\n",
    "census_data.groupby('Religion')['Age'].agg(['mean', 'median', lambda x: x.mode()[0]]).rename(columns={'<lambda_0>': 'mode'})\n",
    "\n"
   ]
  },
  {
   "cell_type": "code",
   "execution_count": 1327,
   "id": "12955ac2",
   "metadata": {},
   "outputs": [
    {
     "data": {
      "image/png": "[encoded data removed]",
      "text/plain": [
       "<Figure size 1080x936 with 1 Axes>"
      ]
     },
     "metadata": {},
     "output_type": "display_data"
    }
   ],
   "source": [
    "\n",
    "fig, ax = plt.subplots(figsize=(15, 13))\n",
    "\n",
    "# Calculating the age range of the data \n",
    "religion_age_range = census_data.groupby('Religion')['Age'].agg(lambda x: max(x) - min(x)).reset_index()\n",
    "\n",
    "# Creating the boxplot\n",
    "sns.boxplot(x='Age', y='Religion', data=census_data)\n",
    "\n",
    "\n",
    "# Set title and labels\n",
    "plt.title('Age Range per Religion')\n",
    "plt.xlabel('Religion')\n",
    "plt.ylabel('Age Range')\n",
    "\n",
    "# Show plot\n",
    "plt.show()\n"
   ]
  },
  {
   "cell_type": "markdown",
   "id": "3731b68f",
   "metadata": {},
   "source": [
    "#### Religion Adoption rate by chidren\n",
    "I will check the rate children take their parents religion especially that of the head of house. If the rate is quite I will assume children take after their parents religion and get future religions of under 18 children"
   ]
  },
  {
   "cell_type": "code",
   "execution_count": 1328,
   "id": "21e17285",
   "metadata": {},
   "outputs": [
    {
     "name": "stdout",
     "output_type": "stream",
     "text": [
      "Religion adoption count for population is: 78.22%\n"
     ]
    }
   ],
   "source": [
    "# filter the data for rows with age >= 18 and 'relationship to head of house' column to be 'Daughter', 'Son', 'Adopted Daughter', 'Adopted Son', 'Step-Son' or 'Step-Daughter'\n",
    "filtered_data = census_data[(census_data['Age'] >= 18) & census_data['Relationship to Head of House'].isin(['Daughter', 'Son', 'Adopted Daughter', 'Adopted Son', 'Step-Son', 'Step-Daughter'])]\n",
    "\n",
    "# get the count of filtered rows\n",
    "total_count = len(filtered_data)\n",
    "\n",
    "# initialize the count of matching rows to 0\n",
    "religion_adoption_count = 0\n",
    "\n",
    "# loop through each row and check if it matches the conditions\n",
    "for index, row in filtered_data.iterrows():\n",
    "    religion = row['Religion']\n",
    "    street = row['Street']\n",
    "    house_number = row['House Number']\n",
    "    head_of_house_religion = census_data[(census_data['Street'] == street) & (census_data['House Number'] == house_number) & (census_data['Relationship to Head of House'] == 'Head')]['Religion'].iloc[0]\n",
    "    if religion == head_of_house_religion:\n",
    "        religion_adoption_count += 1\n",
    "\n",
    "# calculate the matching rate\n",
    "religion_adoption_rate = religion_adoption_count / total_count\n",
    "\n",
    "print(f'Religion adoption count for population is: {religion_adoption_rate*100:.2f}%')\n"
   ]
  },
  {
   "cell_type": "markdown",
   "id": "02472ea5",
   "metadata": {},
   "source": [
    "With Religion adoption rate s 78.22% its safe to assume children will take their parents religion when they are adults"
   ]
  },
  {
   "cell_type": "code",
   "execution_count": 1329,
   "id": "1784fdd4",
   "metadata": {},
   "outputs": [
    {
     "name": "stdout",
     "output_type": "stream",
     "text": [
      "['Catholic' 'Methodist' 'None' 'Christian' 'undecided' 'Jewish' 'Sikh'\n",
      " 'Muslim' 'Buddist' 'Quaker' 'Pagan' 'Undecided' 'Private' 'Orthodoxy']\n"
     ]
    }
   ],
   "source": [
    "'''I created a new column with future religion of children and current religion of adults '''\n",
    "\n",
    "# Get the unique head of household details\n",
    "head_of_house_df = census_data[(census_data['Relationship to Head of House'] == 'Head')][['Surname', 'Street', 'House Number', 'Religion']].drop_duplicates()\n",
    "\n",
    "# Loop through the rows and update the 'prospective religion and current religion' column\n",
    "for i, row in census_data.iterrows():\n",
    "    if row['Religion'] == 'Undecided':\n",
    "        matching_head_of_house = head_of_house_df[(head_of_house_df['Surname'] == row['Surname']) & (head_of_house_df['Street'] == row['Street']) & (head_of_house_df['House Number'] == row['House Number'])]\n",
    "        if not matching_head_of_house.empty:\n",
    "            census_data.at[i, 'Prospective Religion and Current Religion'] = matching_head_of_house['Religion'].values[0]\n",
    "        else:\n",
    "            census_data.at[i, 'Prospective Religion and Current Religion'] = 'undecided'\n",
    "    else:\n",
    "        census_data.at[i, 'Prospective Religion and Current Religion'] = row['Religion']\n",
    "\n",
    "print(census_data['Prospective Religion and Current Religion'].unique())"
   ]
  },
  {
   "cell_type": "code",
   "execution_count": 1330,
   "id": "363962d7",
   "metadata": {},
   "outputs": [
    {
     "data": {
      "text/html": [
       "<div>\n",
       "<style scoped>\n",
       "    .dataframe tbody tr th:only-of-type {\n",
       "        vertical-align: middle;\n",
       "    }\n",
       "\n",
       "    .dataframe tbody tr th {\n",
       "        vertical-align: top;\n",
       "    }\n",
       "\n",
       "    .dataframe thead th {\n",
       "        text-align: right;\n",
       "    }\n",
       "</style>\n",
       "<table border=\"1\" class=\"dataframe\">\n",
       "  <thead>\n",
       "    <tr style=\"text-align: right;\">\n",
       "      <th></th>\n",
       "      <th>count</th>\n",
       "      <th>mean</th>\n",
       "      <th>std</th>\n",
       "      <th>min</th>\n",
       "      <th>25%</th>\n",
       "      <th>50%</th>\n",
       "      <th>75%</th>\n",
       "      <th>max</th>\n",
       "    </tr>\n",
       "    <tr>\n",
       "      <th>Prospective Religion and Current Religion</th>\n",
       "      <th></th>\n",
       "      <th></th>\n",
       "      <th></th>\n",
       "      <th></th>\n",
       "      <th></th>\n",
       "      <th></th>\n",
       "      <th></th>\n",
       "      <th></th>\n",
       "    </tr>\n",
       "  </thead>\n",
       "  <tbody>\n",
       "    <tr>\n",
       "      <th>Buddist</th>\n",
       "      <td>3.0</td>\n",
       "      <td>29.666667</td>\n",
       "      <td>18.475209</td>\n",
       "      <td>19.0</td>\n",
       "      <td>19.0</td>\n",
       "      <td>19.0</td>\n",
       "      <td>35.00</td>\n",
       "      <td>51.0</td>\n",
       "    </tr>\n",
       "    <tr>\n",
       "      <th>Catholic</th>\n",
       "      <td>1217.0</td>\n",
       "      <td>34.430567</td>\n",
       "      <td>21.179884</td>\n",
       "      <td>0.0</td>\n",
       "      <td>16.0</td>\n",
       "      <td>37.0</td>\n",
       "      <td>47.00</td>\n",
       "      <td>102.0</td>\n",
       "    </tr>\n",
       "    <tr>\n",
       "      <th>Christian</th>\n",
       "      <td>2438.0</td>\n",
       "      <td>42.016817</td>\n",
       "      <td>22.949198</td>\n",
       "      <td>0.0</td>\n",
       "      <td>22.0</td>\n",
       "      <td>43.0</td>\n",
       "      <td>59.00</td>\n",
       "      <td>116.0</td>\n",
       "    </tr>\n",
       "    <tr>\n",
       "      <th>Jewish</th>\n",
       "      <td>52.0</td>\n",
       "      <td>29.980769</td>\n",
       "      <td>19.347686</td>\n",
       "      <td>0.0</td>\n",
       "      <td>13.5</td>\n",
       "      <td>27.0</td>\n",
       "      <td>43.25</td>\n",
       "      <td>70.0</td>\n",
       "    </tr>\n",
       "    <tr>\n",
       "      <th>Methodist</th>\n",
       "      <td>657.0</td>\n",
       "      <td>36.936073</td>\n",
       "      <td>22.107460</td>\n",
       "      <td>0.0</td>\n",
       "      <td>18.0</td>\n",
       "      <td>36.0</td>\n",
       "      <td>53.00</td>\n",
       "      <td>100.0</td>\n",
       "    </tr>\n",
       "    <tr>\n",
       "      <th>Muslim</th>\n",
       "      <td>115.0</td>\n",
       "      <td>30.747826</td>\n",
       "      <td>16.411295</td>\n",
       "      <td>0.0</td>\n",
       "      <td>20.5</td>\n",
       "      <td>27.0</td>\n",
       "      <td>39.50</td>\n",
       "      <td>94.0</td>\n",
       "    </tr>\n",
       "    <tr>\n",
       "      <th>None</th>\n",
       "      <td>3529.0</td>\n",
       "      <td>35.699065</td>\n",
       "      <td>20.052004</td>\n",
       "      <td>0.0</td>\n",
       "      <td>21.0</td>\n",
       "      <td>34.0</td>\n",
       "      <td>49.00</td>\n",
       "      <td>107.0</td>\n",
       "    </tr>\n",
       "    <tr>\n",
       "      <th>Orthodoxy</th>\n",
       "      <td>1.0</td>\n",
       "      <td>45.000000</td>\n",
       "      <td>NaN</td>\n",
       "      <td>45.0</td>\n",
       "      <td>45.0</td>\n",
       "      <td>45.0</td>\n",
       "      <td>45.00</td>\n",
       "      <td>45.0</td>\n",
       "    </tr>\n",
       "    <tr>\n",
       "      <th>Pagan</th>\n",
       "      <td>1.0</td>\n",
       "      <td>102.000000</td>\n",
       "      <td>NaN</td>\n",
       "      <td>102.0</td>\n",
       "      <td>102.0</td>\n",
       "      <td>102.0</td>\n",
       "      <td>102.00</td>\n",
       "      <td>102.0</td>\n",
       "    </tr>\n",
       "    <tr>\n",
       "      <th>Private</th>\n",
       "      <td>1.0</td>\n",
       "      <td>19.000000</td>\n",
       "      <td>NaN</td>\n",
       "      <td>19.0</td>\n",
       "      <td>19.0</td>\n",
       "      <td>19.0</td>\n",
       "      <td>19.00</td>\n",
       "      <td>19.0</td>\n",
       "    </tr>\n",
       "    <tr>\n",
       "      <th>Quaker</th>\n",
       "      <td>1.0</td>\n",
       "      <td>57.000000</td>\n",
       "      <td>NaN</td>\n",
       "      <td>57.0</td>\n",
       "      <td>57.0</td>\n",
       "      <td>57.0</td>\n",
       "      <td>57.00</td>\n",
       "      <td>57.0</td>\n",
       "    </tr>\n",
       "    <tr>\n",
       "      <th>Sikh</th>\n",
       "      <td>56.0</td>\n",
       "      <td>25.785714</td>\n",
       "      <td>15.711853</td>\n",
       "      <td>0.0</td>\n",
       "      <td>15.0</td>\n",
       "      <td>26.0</td>\n",
       "      <td>31.00</td>\n",
       "      <td>73.0</td>\n",
       "    </tr>\n",
       "    <tr>\n",
       "      <th>Undecided</th>\n",
       "      <td>7.0</td>\n",
       "      <td>9.285714</td>\n",
       "      <td>8.712334</td>\n",
       "      <td>0.0</td>\n",
       "      <td>0.0</td>\n",
       "      <td>15.0</td>\n",
       "      <td>16.50</td>\n",
       "      <td>17.0</td>\n",
       "    </tr>\n",
       "    <tr>\n",
       "      <th>undecided</th>\n",
       "      <td>299.0</td>\n",
       "      <td>8.789298</td>\n",
       "      <td>4.930295</td>\n",
       "      <td>0.0</td>\n",
       "      <td>4.5</td>\n",
       "      <td>9.0</td>\n",
       "      <td>13.00</td>\n",
       "      <td>17.0</td>\n",
       "    </tr>\n",
       "  </tbody>\n",
       "</table>\n",
       "</div>"
      ],
      "text/plain": [
       "                                            count        mean        std   \n",
       "Prospective Religion and Current Religion                                  \n",
       "Buddist                                       3.0   29.666667  18.475209  \\\n",
       "Catholic                                   1217.0   34.430567  21.179884   \n",
       "Christian                                  2438.0   42.016817  22.949198   \n",
       "Jewish                                       52.0   29.980769  19.347686   \n",
       "Methodist                                   657.0   36.936073  22.107460   \n",
       "Muslim                                      115.0   30.747826  16.411295   \n",
       "None                                       3529.0   35.699065  20.052004   \n",
       "Orthodoxy                                     1.0   45.000000        NaN   \n",
       "Pagan                                         1.0  102.000000        NaN   \n",
       "Private                                       1.0   19.000000        NaN   \n",
       "Quaker                                        1.0   57.000000        NaN   \n",
       "Sikh                                         56.0   25.785714  15.711853   \n",
       "Undecided                                     7.0    9.285714   8.712334   \n",
       "undecided                                   299.0    8.789298   4.930295   \n",
       "\n",
       "                                             min    25%    50%     75%    max  \n",
       "Prospective Religion and Current Religion                                      \n",
       "Buddist                                     19.0   19.0   19.0   35.00   51.0  \n",
       "Catholic                                     0.0   16.0   37.0   47.00  102.0  \n",
       "Christian                                    0.0   22.0   43.0   59.00  116.0  \n",
       "Jewish                                       0.0   13.5   27.0   43.25   70.0  \n",
       "Methodist                                    0.0   18.0   36.0   53.00  100.0  \n",
       "Muslim                                       0.0   20.5   27.0   39.50   94.0  \n",
       "None                                         0.0   21.0   34.0   49.00  107.0  \n",
       "Orthodoxy                                   45.0   45.0   45.0   45.00   45.0  \n",
       "Pagan                                      102.0  102.0  102.0  102.00  102.0  \n",
       "Private                                     19.0   19.0   19.0   19.00   19.0  \n",
       "Quaker                                      57.0   57.0   57.0   57.00   57.0  \n",
       "Sikh                                         0.0   15.0   26.0   31.00   73.0  \n",
       "Undecided                                    0.0    0.0   15.0   16.50   17.0  \n",
       "undecided                                    0.0    4.5    9.0   13.00   17.0  "
      ]
     },
     "execution_count": 1330,
     "metadata": {},
     "output_type": "execute_result"
    }
   ],
   "source": [
    "# Using decribe method to get the statistics\n",
    "\n",
    "census_data['Age'].groupby(census_data['Prospective Religion and Current Religion']).describe()"
   ]
  },
  {
   "cell_type": "markdown",
   "id": "8188cc28",
   "metadata": {},
   "source": [
    "Visualizing both prospective and current religion"
   ]
  },
  {
   "cell_type": "code",
   "execution_count": 1331,
   "id": "350e9b10",
   "metadata": {},
   "outputs": [
    {
     "data": {
      "image/png": "[encoded data removed]",
      "text/plain": [
       "<Figure size 1080x864 with 1 Axes>"
      ]
     },
     "metadata": {},
     "output_type": "display_data"
    }
   ],
   "source": [
    "sns.set_style('whitegrid')\n",
    "\n",
    "plt.figure(figsize=(15, 12))\n",
    "sns.countplot(data=census_data, y='Prospective Religion and Current Religion')\n",
    "plt.title('Religion Distribution')\n",
    "plt.xlabel('Count')\n",
    "plt.ylabel('Prospective Religion and Current Religion')\n",
    "plt.show()"
   ]
  },
  {
   "cell_type": "code",
   "execution_count": null,
   "id": "bb557901",
   "metadata": {},
   "outputs": [],
   "source": []
  },
  {
   "cell_type": "code",
   "execution_count": 1332,
   "id": "55de03bb",
   "metadata": {},
   "outputs": [
    {
     "data": {
      "image/png": "[encoded data removed]",
      "text/plain": [
       "<Figure size 1080x936 with 1 Axes>"
      ]
     },
     "metadata": {},
     "output_type": "display_data"
    }
   ],
   "source": [
    "''' Creating a box plot for age range per religion after prspective adoption'''\n",
    "fig, ax = plt.subplots(figsize=(15, 13))\n",
    "\n",
    "# Calculating the age range of the data \n",
    "prospective_religion_age_range = census_data.groupby('Prospective Religion and Current Religion')['Age'].agg(lambda x: max(x) - min(x)).reset_index()\n",
    "\n",
    "# Creating the boxplot\n",
    "sns.boxplot(x='Age', y='Prospective Religion and Current Religion', data=census_data)\n",
    "\n",
    "\n",
    "# Set title and labels\n",
    "plt.title('Age Range per Prospective Religion and Current Religion')\n",
    "plt.xlabel('Prospective Religion and Current Religion')\n",
    "plt.ylabel('Age Range')\n",
    "\n",
    "# Show plot\n",
    "plt.show()\n"
   ]
  },
  {
   "cell_type": "code",
   "execution_count": null,
   "id": "95f13e7b",
   "metadata": {},
   "outputs": [],
   "source": []
  },
  {
   "cell_type": "markdown",
   "id": "6bbad834",
   "metadata": {},
   "source": [
    "### 4f. Examining the Marriage and Divorced rate\n",
    "My approach to this was to get the total number of divorced divided by the total population. I did same for marriage rate."
   ]
  },
  {
   "cell_type": "code",
   "execution_count": 1333,
   "id": "964ee55a",
   "metadata": {},
   "outputs": [
    {
     "name": "stdout",
     "output_type": "stream",
     "text": [
      "Divorce rate: 26.24%\n",
      "Marriage rate: 73.76%\n"
     ]
    }
   ],
   "source": [
    "# Get rows with marital status as Divorced or Married and DataFrame it\n",
    "marriage_status_data = census_data[census_data['Marital Status'].isin(['Divorced', 'Married'])]\n",
    "\n",
    "# Calculate the number of people who are divorced, married or widowed\n",
    "marital_status_counts = marriage_status_data['Marital Status'].value_counts()\n",
    "\n",
    "# Calculate the total number of people in the dataset\n",
    "total_population = len(marriage_status_data)\n",
    "\n",
    "# Calculate the divorce rate\n",
    "divorce_rate = marital_status_counts['Divorced'] / total_population\n",
    "\n",
    "# Calculate the marriage rate\n",
    "marriage_rate = marital_status_counts['Married'] / total_population\n",
    "\n",
    "# Print the results\n",
    "print(f'Divorce rate: {divorce_rate*100:.2f}%')\n",
    "print(f'Marriage rate: {marriage_rate*100:.2f}%')\n"
   ]
  },
  {
   "cell_type": "code",
   "execution_count": null,
   "id": "81172167",
   "metadata": {},
   "outputs": [],
   "source": []
  },
  {
   "cell_type": "code",
   "execution_count": 1334,
   "id": "2554c393",
   "metadata": {},
   "outputs": [
    {
     "name": "stdout",
     "output_type": "stream",
     "text": [
      "3064\n"
     ]
    }
   ],
   "source": [
    "''' Calculating number of houses in the town'''\n",
    "\n",
    "num_of_house = len(census_data.groupby(['House Number', 'Street']))\n",
    "print(num_of_house)"
   ]
  },
  {
   "cell_type": "code",
   "execution_count": 1335,
   "id": "a0ebe1bf",
   "metadata": {},
   "outputs": [
    {
     "data": {
      "text/html": [
       "<div>\n",
       "<style scoped>\n",
       "    .dataframe tbody tr th:only-of-type {\n",
       "        vertical-align: middle;\n",
       "    }\n",
       "\n",
       "    .dataframe tbody tr th {\n",
       "        vertical-align: top;\n",
       "    }\n",
       "\n",
       "    .dataframe thead th {\n",
       "        text-align: right;\n",
       "    }\n",
       "</style>\n",
       "<table border=\"1\" class=\"dataframe\">\n",
       "  <thead>\n",
       "    <tr style=\"text-align: right;\">\n",
       "      <th></th>\n",
       "      <th>House Number</th>\n",
       "      <th>Street</th>\n",
       "    </tr>\n",
       "  </thead>\n",
       "  <tbody>\n",
       "    <tr>\n",
       "      <th>0</th>\n",
       "      <td>1</td>\n",
       "      <td>Regentchain Avenue</td>\n",
       "    </tr>\n",
       "    <tr>\n",
       "      <th>1</th>\n",
       "      <td>1</td>\n",
       "      <td>Regentchain Avenue</td>\n",
       "    </tr>\n",
       "    <tr>\n",
       "      <th>2</th>\n",
       "      <td>1</td>\n",
       "      <td>Regentchain Avenue</td>\n",
       "    </tr>\n",
       "    <tr>\n",
       "      <th>3</th>\n",
       "      <td>2</td>\n",
       "      <td>Regentchain Avenue</td>\n",
       "    </tr>\n",
       "    <tr>\n",
       "      <th>4</th>\n",
       "      <td>2</td>\n",
       "      <td>Regentchain Avenue</td>\n",
       "    </tr>\n",
       "  </tbody>\n",
       "</table>\n",
       "</div>"
      ],
      "text/plain": [
       "  House Number              Street\n",
       "0            1  Regentchain Avenue\n",
       "1            1  Regentchain Avenue\n",
       "2            1  Regentchain Avenue\n",
       "3            2  Regentchain Avenue\n",
       "4            2  Regentchain Avenue"
      ]
     },
     "execution_count": 1335,
     "metadata": {},
     "output_type": "execute_result"
    }
   ],
   "source": [
    "houses_df = census_data[['House Number', 'Street']]\n",
    "houses_df.head()"
   ]
  },
  {
   "cell_type": "code",
   "execution_count": 1336,
   "id": "3018ff3d",
   "metadata": {},
   "outputs": [
    {
     "name": "stdout",
     "output_type": "stream",
     "text": [
      "Number of House in the town is 3064\n"
     ]
    }
   ],
   "source": [
    "num_of_houses = houses_df.drop_duplicates()\n",
    "print(f'Number of House in the town is {len(num_of_houses)}')"
   ]
  },
  {
   "cell_type": "code",
   "execution_count": 1337,
   "id": "5c473322",
   "metadata": {},
   "outputs": [
    {
     "name": "stdout",
     "output_type": "stream",
     "text": [
      "Average Age of Divorce is: 42 Years\n"
     ]
    }
   ],
   "source": [
    "''' Getting avegage age of divorce'''\n",
    "mean_age_divorced = census_data.loc[census_data['Marital Status'] == 'Divorced', 'Age'].mean()\n",
    "print(f'Average Age of Divorce is: {round(mean_age_divorced)} Years')"
   ]
  },
  {
   "cell_type": "code",
   "execution_count": null,
   "id": "38acf861",
   "metadata": {},
   "outputs": [],
   "source": []
  },
  {
   "cell_type": "markdown",
   "id": "d9469b52",
   "metadata": {},
   "source": [
    "### 4g. Examining Occupancy Level"
   ]
  },
  {
   "cell_type": "code",
   "execution_count": 1338,
   "id": "cec5e47d",
   "metadata": {},
   "outputs": [
    {
     "data": {
      "text/html": [
       "<div>\n",
       "<style scoped>\n",
       "    .dataframe tbody tr th:only-of-type {\n",
       "        vertical-align: middle;\n",
       "    }\n",
       "\n",
       "    .dataframe tbody tr th {\n",
       "        vertical-align: top;\n",
       "    }\n",
       "\n",
       "    .dataframe thead th {\n",
       "        text-align: right;\n",
       "    }\n",
       "</style>\n",
       "<table border=\"1\" class=\"dataframe\">\n",
       "  <thead>\n",
       "    <tr style=\"text-align: right;\">\n",
       "      <th></th>\n",
       "      <th>House Number</th>\n",
       "      <th>Street</th>\n",
       "      <th>First Name</th>\n",
       "      <th>Surname</th>\n",
       "      <th>Age</th>\n",
       "      <th>Relationship to Head of House</th>\n",
       "      <th>Marital Status</th>\n",
       "      <th>Gender</th>\n",
       "      <th>Occupation</th>\n",
       "      <th>Infirmity</th>\n",
       "      <th>Religion</th>\n",
       "      <th>Age Group</th>\n",
       "      <th>Employment Status</th>\n",
       "      <th>Prospective Religion and Current Religion</th>\n",
       "      <th>occupancy_level</th>\n",
       "    </tr>\n",
       "  </thead>\n",
       "  <tbody>\n",
       "    <tr>\n",
       "      <th>0</th>\n",
       "      <td>1</td>\n",
       "      <td>Regentchain Avenue</td>\n",
       "      <td>Ashleigh</td>\n",
       "      <td>Dale</td>\n",
       "      <td>41</td>\n",
       "      <td>Head</td>\n",
       "      <td>Divorced</td>\n",
       "      <td>Female</td>\n",
       "      <td>Field Trials Officer</td>\n",
       "      <td>None</td>\n",
       "      <td>Catholic</td>\n",
       "      <td>41-50</td>\n",
       "      <td>Employed</td>\n",
       "      <td>Catholic</td>\n",
       "      <td>3.0</td>\n",
       "    </tr>\n",
       "    <tr>\n",
       "      <th>1</th>\n",
       "      <td>1</td>\n",
       "      <td>Regentchain Avenue</td>\n",
       "      <td>Deborah</td>\n",
       "      <td>Dale</td>\n",
       "      <td>11</td>\n",
       "      <td>Daughter</td>\n",
       "      <td>Not applicable</td>\n",
       "      <td>Female</td>\n",
       "      <td>Student</td>\n",
       "      <td>None</td>\n",
       "      <td>Undecided</td>\n",
       "      <td>11-15</td>\n",
       "      <td>Student</td>\n",
       "      <td>Catholic</td>\n",
       "      <td>3.0</td>\n",
       "    </tr>\n",
       "    <tr>\n",
       "      <th>2</th>\n",
       "      <td>1</td>\n",
       "      <td>Regentchain Avenue</td>\n",
       "      <td>Gary</td>\n",
       "      <td>Dale</td>\n",
       "      <td>7</td>\n",
       "      <td>Son</td>\n",
       "      <td>Not applicable</td>\n",
       "      <td>Male</td>\n",
       "      <td>Student</td>\n",
       "      <td>None</td>\n",
       "      <td>Undecided</td>\n",
       "      <td>5-10</td>\n",
       "      <td>Student</td>\n",
       "      <td>Catholic</td>\n",
       "      <td>3.0</td>\n",
       "    </tr>\n",
       "    <tr>\n",
       "      <th>3</th>\n",
       "      <td>2</td>\n",
       "      <td>Regentchain Avenue</td>\n",
       "      <td>Edward</td>\n",
       "      <td>Grant</td>\n",
       "      <td>40</td>\n",
       "      <td>Head</td>\n",
       "      <td>Married</td>\n",
       "      <td>Male</td>\n",
       "      <td>Environmental Education Officer</td>\n",
       "      <td>None</td>\n",
       "      <td>Methodist</td>\n",
       "      <td>31-40</td>\n",
       "      <td>Employed</td>\n",
       "      <td>Methodist</td>\n",
       "      <td>5.0</td>\n",
       "    </tr>\n",
       "    <tr>\n",
       "      <th>4</th>\n",
       "      <td>2</td>\n",
       "      <td>Regentchain Avenue</td>\n",
       "      <td>Elizabeth</td>\n",
       "      <td>Grant</td>\n",
       "      <td>35</td>\n",
       "      <td>Wife</td>\n",
       "      <td>Married</td>\n",
       "      <td>Female</td>\n",
       "      <td>Public Librarian</td>\n",
       "      <td>None</td>\n",
       "      <td>Catholic</td>\n",
       "      <td>31-40</td>\n",
       "      <td>Employed</td>\n",
       "      <td>Catholic</td>\n",
       "      <td>5.0</td>\n",
       "    </tr>\n",
       "  </tbody>\n",
       "</table>\n",
       "</div>"
      ],
      "text/plain": [
       "  House Number              Street First Name Surname  Age   \n",
       "0            1  Regentchain Avenue   Ashleigh    Dale   41  \\\n",
       "1            1  Regentchain Avenue    Deborah    Dale   11   \n",
       "2            1  Regentchain Avenue       Gary    Dale    7   \n",
       "3            2  Regentchain Avenue     Edward   Grant   40   \n",
       "4            2  Regentchain Avenue  Elizabeth   Grant   35   \n",
       "\n",
       "  Relationship to Head of House  Marital Status  Gender   \n",
       "0                          Head        Divorced  Female  \\\n",
       "1                      Daughter  Not applicable  Female   \n",
       "2                           Son  Not applicable    Male   \n",
       "3                          Head         Married    Male   \n",
       "4                          Wife         Married  Female   \n",
       "\n",
       "                        Occupation Infirmity   Religion Age Group   \n",
       "0             Field Trials Officer      None   Catholic     41-50  \\\n",
       "1                          Student      None  Undecided     11-15   \n",
       "2                          Student      None  Undecided      5-10   \n",
       "3  Environmental Education Officer      None  Methodist     31-40   \n",
       "4                 Public Librarian      None   Catholic     31-40   \n",
       "\n",
       "  Employment Status Prospective Religion and Current Religion  occupancy_level  \n",
       "0          Employed                                  Catholic              3.0  \n",
       "1           Student                                  Catholic              3.0  \n",
       "2           Student                                  Catholic              3.0  \n",
       "3          Employed                                 Methodist              5.0  \n",
       "4          Employed                                  Catholic              5.0  "
      ]
     },
     "execution_count": 1338,
     "metadata": {},
     "output_type": "execute_result"
    }
   ],
   "source": [
    "# Group by 'House Number' and 'Street' and calculate the total number of individuals in each house\n",
    "house_group = census_data.groupby(['House Number', 'Street'])['Age'].count()\n",
    "\n",
    "# Calculate the average number of individuals per house\n",
    "occupancy_level = house_group / 1\n",
    "\n",
    "# Reset the index of the resulting dataframe and rename the column\n",
    "occupancy_level = occupancy_level.reset_index(name='occupancy_level')\n",
    "\n",
    "# Merge the occupancy level data with the original census_data dataframe\n",
    "census_data_adjusted = pd.merge(census_data, occupancy_level, on=['House Number', 'Street'], how='left')\n",
    "\n",
    "census_data_adjusted.head()"
   ]
  },
  {
   "cell_type": "code",
   "execution_count": 1339,
   "id": "52e8044a",
   "metadata": {},
   "outputs": [
    {
     "data": {
      "text/plain": [
       "Street\n",
       "Davies Avenue             3434.0\n",
       "Willow Road               2038.0\n",
       "Harvey Road               1710.0\n",
       "Cambridge Street          1600.0\n",
       "ExcaliburBellsby Drive    1303.0\n",
       "Farthing Crescent         1221.0\n",
       "Canterbury Well            931.0\n",
       "Chan Estate                881.0\n",
       "November Falls             871.0\n",
       "CherryChestnut Drive       801.0\n",
       "Singh Burgs                707.0\n",
       "Aethelred Heights          705.0\n",
       "Leach Tunnel               680.0\n",
       "Squirrel Street            639.0\n",
       "Ward Avenue                571.0\n",
       "Clark Street               559.0\n",
       "Pendragon Lane             546.0\n",
       "Brady Creek                526.0\n",
       "Murray Drive               515.0\n",
       "Khan Village               515.0\n",
       "Name: occupancy_level, dtype: float64"
      ]
     },
     "execution_count": 1339,
     "metadata": {},
     "output_type": "execute_result"
    }
   ],
   "source": [
    "# Group the data by street and count the number of occupants per street\n",
    "occupancy_by_street = census_data_adjusted.groupby('Street')['occupancy_level'].sum()\n",
    "\n",
    "# Sort the data by descending order of occupancy level and select the top 20 streets\n",
    "top_20_streets = occupancy_by_street.sort_values(ascending=False)[:20]\n",
    "top_20_streets"
   ]
  },
  {
   "cell_type": "code",
   "execution_count": 1340,
   "id": "f1649cad",
   "metadata": {},
   "outputs": [
    {
     "data": {
      "image/png": "[encoded data removed]",
      "text/plain": [
       "<Figure size 1080x864 with 1 Axes>"
      ]
     },
     "metadata": {},
     "output_type": "display_data"
    }
   ],
   "source": [
    "# Group the data by street and count the number of occupants per street\n",
    "occupancy_by_street = census_data_adjusted.groupby('Street')['occupancy_level'].sum()\n",
    "\n",
    "# Sort the data by descending order of occupancy level and select the top 20 streets\n",
    "top_20_streets = occupancy_by_street.sort_values(ascending=False)[:20]\n",
    "\n",
    "# Create a horizontal bar chart\n",
    "plt.figure(figsize=(15, 12))\n",
    "sns.barplot(x=top_20_streets.values, y=top_20_streets.index, color='b')\n",
    "\n",
    "# Set the plot title and axis labels\n",
    "plt.title('Top 20 Streets with Highest Occupancy Level')\n",
    "plt.xlabel('Number of Occupants')\n",
    "plt.ylabel('Street')\n",
    "\n",
    "# Display the plot\n",
    "plt.show()"
   ]
  },
  {
   "cell_type": "code",
   "execution_count": 1341,
   "id": "c27a9c33",
   "metadata": {},
   "outputs": [
    {
     "name": "stdout",
     "output_type": "stream",
     "text": [
      "Number of Lodgers: 880\n"
     ]
    }
   ],
   "source": [
    "''' Calculating number of lodgers'''\n",
    "num_of_lodgers = len(census_data[census_data['Relationship to Head of House'] == 'Lodger'])\n",
    "\n",
    "print(f\"Number of Lodgers: {num_of_lodgers}\")\n"
   ]
  },
  {
   "cell_type": "code",
   "execution_count": 1342,
   "id": "d06acbe4",
   "metadata": {},
   "outputs": [
    {
     "name": "stdout",
     "output_type": "stream",
     "text": [
      "Percentage of lodgers : 10.50%\n"
     ]
    }
   ],
   "source": [
    "percent_lodgers = num_of_lodgers/ len(census_data) * 100\n",
    "print(f\"Percentage of lodgers : {percent_lodgers:.2f}%\")"
   ]
  },
  {
   "cell_type": "code",
   "execution_count": 1343,
   "id": "222b5ce5",
   "metadata": {},
   "outputs": [
    {
     "name": "stdout",
     "output_type": "stream",
     "text": [
      "Number of Visitors: 21\n"
     ]
    }
   ],
   "source": [
    "''' Calculating number of visitors'''\n",
    "num_of_lodgers = len(census_data[census_data['Relationship to Head of House'] == 'Visitor'])\n",
    "\n",
    "print(f\"Number of Visitors: {num_of_lodgers}\")"
   ]
  },
  {
   "cell_type": "code",
   "execution_count": null,
   "id": "9d7ad1ed",
   "metadata": {},
   "outputs": [],
   "source": []
  },
  {
   "cell_type": "code",
   "execution_count": null,
   "id": "c7a98ab4",
   "metadata": {},
   "outputs": [],
   "source": []
  }
 ],
 "metadata": {
  "kernelspec": {
   "display_name": "Python 3 (ipykernel)",
   "language": "python",
   "name": "python3"
  },
  "language_info": {
   "codemirror_mode": {
    "name": "ipython",
    "version": 3
   },
   "file_extension": ".py",
   "mimetype": "text/x-python",
   "name": "python",
   "nbconvert_exporter": "python",
   "pygments_lexer": "ipython3",
   "version": "3.9.12"
  }
 },
 "nbformat": 4,
 "nbformat_minor": 5
}
